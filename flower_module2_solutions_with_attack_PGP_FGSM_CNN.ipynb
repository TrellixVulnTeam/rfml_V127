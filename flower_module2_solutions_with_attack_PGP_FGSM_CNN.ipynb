{
  "cells": [
    {
      "cell_type": "markdown",
      "metadata": {
        "id": "view-in-github",
        "colab_type": "text"
      },
      "source": [
        "<a href=\"https://colab.research.google.com/github/ongtiongheng/rfml/blob/master/flower_module2_solutions_with_attack_PGP_FGSM_CNN.ipynb\" target=\"_parent\"><img src=\"https://colab.research.google.com/assets/colab-badge.svg\" alt=\"Open In Colab\"/></a>"
      ]
    },
    {
      "cell_type": "markdown",
      "source": [
        "Upload dataset to Google drive i.e. RML2016a"
      ],
      "metadata": {
        "id": "C4NJV9iqDhkL"
      }
    },
    {
      "cell_type": "code",
      "source": [
        "from google.colab import drive\n",
        "drive.mount('/content/drive')"
      ],
      "metadata": {
        "colab": {
          "base_uri": "https://localhost:8080/"
        },
        "id": "Kgc2EvS70-Qx",
        "outputId": "eee19188-63ed-4268-9b6c-afa7f291ecb1"
      },
      "execution_count": 21,
      "outputs": [
        {
          "output_type": "stream",
          "name": "stdout",
          "text": [
            "Drive already mounted at /content/drive; to attempt to forcibly remount, call drive.mount(\"/content/drive\", force_remount=True).\n"
          ]
        }
      ]
    },
    {
      "cell_type": "code",
      "source": [
        "# Install the library code\n",
        "!pip install --upgrade git+https://github.com/brysef/rfml.git\n",
        "#extract to tmp folder only when not found\n",
        "#![ ! -f \"/tmp/RML2016.10a_dict.pkl\" ] && tar -xf /content/drive/MyDrive/RML2016.10a.tar.bz2 -C /tmp\n",
        "#check /tmp/ folder for dataset\n",
        "#!ls -lah /tmp/RML*"
      ],
      "metadata": {
        "colab": {
          "base_uri": "https://localhost:8080/"
        },
        "id": "syQY8Q_1u3Tp",
        "outputId": "272d33bf-df15-4953-cbf0-fcdbc13cdb42"
      },
      "execution_count": 22,
      "outputs": [
        {
          "output_type": "stream",
          "name": "stdout",
          "text": [
            "Looking in indexes: https://pypi.org/simple, https://us-python.pkg.dev/colab-wheels/public/simple/\n",
            "Collecting git+https://github.com/brysef/rfml.git\n",
            "  Cloning https://github.com/brysef/rfml.git to /tmp/pip-req-build-yzhumsqy\n",
            "  Running command git clone -q https://github.com/brysef/rfml.git /tmp/pip-req-build-yzhumsqy\n",
            "Requirement already satisfied: numpy>=0.7.0 in /usr/local/lib/python3.7/dist-packages (from rfml==1.0.0) (1.21.6)\n",
            "Requirement already satisfied: PyYAML>=3.11 in /usr/local/lib/python3.7/dist-packages (from rfml==1.0.0) (3.13)\n",
            "Requirement already satisfied: pandas>=0.24.1 in /usr/local/lib/python3.7/dist-packages (from rfml==1.0.0) (1.3.5)\n",
            "Requirement already satisfied: setGPU>=0.0.7 in /usr/local/lib/python3.7/dist-packages (from rfml==1.0.0) (0.0.7)\n",
            "Requirement already satisfied: torch>=1.0.0 in /usr/local/lib/python3.7/dist-packages (from rfml==1.0.0) (1.11.0+cu113)\n",
            "Requirement already satisfied: python-dateutil>=2.7.3 in /usr/local/lib/python3.7/dist-packages (from pandas>=0.24.1->rfml==1.0.0) (2.8.2)\n",
            "Requirement already satisfied: pytz>=2017.3 in /usr/local/lib/python3.7/dist-packages (from pandas>=0.24.1->rfml==1.0.0) (2022.1)\n",
            "Requirement already satisfied: six>=1.5 in /usr/local/lib/python3.7/dist-packages (from python-dateutil>=2.7.3->pandas>=0.24.1->rfml==1.0.0) (1.15.0)\n",
            "Requirement already satisfied: gpustat in /usr/local/lib/python3.7/dist-packages (from setGPU>=0.0.7->rfml==1.0.0) (0.6.0)\n",
            "Requirement already satisfied: typing-extensions in /usr/local/lib/python3.7/dist-packages (from torch>=1.0.0->rfml==1.0.0) (4.2.0)\n",
            "Requirement already satisfied: psutil in /usr/local/lib/python3.7/dist-packages (from gpustat->setGPU>=0.0.7->rfml==1.0.0) (5.4.8)\n",
            "Requirement already satisfied: blessings>=1.6 in /usr/local/lib/python3.7/dist-packages (from gpustat->setGPU>=0.0.7->rfml==1.0.0) (1.7)\n",
            "Requirement already satisfied: nvidia-ml-py3>=7.352.0 in /usr/local/lib/python3.7/dist-packages (from gpustat->setGPU>=0.0.7->rfml==1.0.0) (7.352.0)\n"
          ]
        }
      ]
    },
    {
      "cell_type": "markdown",
      "metadata": {
        "id": "hXIJ7Mvizsm-"
      },
      "source": [
        "## Train/Evaluate a DNN for AMC\n",
        "\n",
        "This notebook demonstrates how to create a neural network and a trainer in PyTorch to learn a signal classification task.  The reference dataset used is the RML2016.10A dataset for Automatic Modulation Classification\n",
        "\n",
        "### Assumptions\n",
        "- The dataset wrangling has already been completed (and is provided here)\n",
        "- The classifier evaluation code (and the plotting) has already been completed\n",
        "\n",
        "### Components Recreated in Tutorial\n",
        "- Deep Neural Network Model defined in PyTorch\n",
        "- Training Loop that trains for *n* epochs\n",
        "\n",
        "### See Also\n",
        "The code in this tutorial is a stripped down version of the code in ``rfml.nn.model.CNN`` and ``rfml.nn.train.StandardTrainingStrategy`` that simplifies discussion.  Further detail can be provided by directly browsing the source files for those classes."
      ]
    },
    {
      "cell_type": "markdown",
      "metadata": {
        "id": "fWuzJnD5zsm_"
      },
      "source": [
        "## Install the library code and dependencies"
      ]
    },
    {
      "cell_type": "code",
      "execution_count": 114,
      "metadata": {
        "id": "xZXJtKgLzsnE"
      },
      "outputs": [],
      "source": [
        "# Plotting Includes\n",
        "import matplotlib.pyplot as plt\n",
        "import seaborn as sns\n",
        "sns.set_style(\"whitegrid\")\n",
        "\n",
        "# External Includes\n",
        "import numpy as np\n",
        "from pprint import pprint\n",
        "\n",
        "from torch.autograd import Variable\n",
        "import torch.nn as nn\n",
        "from torch.optim import Adam\n",
        "from torch.utils.data import DataLoader\n",
        "\n",
        "# Internal Includes\n",
        "from rfml.data import Dataset, Encoder\n",
        "from rfml.data.converters import load_RML201610A_dataset\n",
        "\n",
        "from rfml.nbutils import plot_acc_vs_snr, plot_confusion, plot_convergence, plot_IQ\n",
        "\n",
        "from rfml.nn.eval import compute_accuracy, compute_accuracy_on_cross_sections, compute_confusion\n",
        "from rfml.nn.eval.confusion import _confusion_matrix\n",
        "from rfml.nn.model import Model\n",
        "\n",
        "#Attack Includes\n",
        "from rfml.attack import fgsm, pgd\n",
        "from rfml.nn.eval import compute_accuracy\n",
        "from rfml.data import build_dataset\n",
        "from rfml.nn.model import build_model\n",
        "\n",
        "from torch.utils.data import DataLoader"
      ]
    },
    {
      "cell_type": "markdown",
      "metadata": {
        "id": "yn08CS2vzsnG"
      },
      "source": [
        "## Configuration"
      ]
    },
    {
      "cell_type": "code",
      "execution_count": 24,
      "metadata": {
        "id": "vv27phvSzsnH"
      },
      "outputs": [],
      "source": [
        "gpu = True       # Set to True to use a GPU for training\n",
        "fig_dir = None   # Set to a file path if you'd like to save the plots generated\n",
        "data_path = \"/content/drive/MyDrive/RML2016.10a_dict.pkl\" # Set to a file path if you've downloaded RML2016.10A locally"
      ]
    },
    {
      "cell_type": "markdown",
      "metadata": {
        "id": "AgsYbed4zsnJ"
      },
      "source": [
        "### Loading a Dataset\n",
        "\n",
        "The dataset used is downloaded from DeepSig Inc. and provided under a Creative Commons lic"
      ]
    },
    {
      "cell_type": "code",
      "execution_count": 25,
      "metadata": {
        "id": "pYEitUXfzsnJ",
        "colab": {
          "base_uri": "https://localhost:8080/"
        },
        "outputId": "e80edea5-6fc7-476b-b973-7eeb029ea201"
      },
      "outputs": [
        {
          "output_type": "stream",
          "name": "stdout",
          "text": [
            "220000\n",
            "{'8PSK': 20000,\n",
            " 'AM-DSB': 20000,\n",
            " 'AM-SSB': 20000,\n",
            " 'BPSK': 20000,\n",
            " 'CPFSK': 20000,\n",
            " 'GFSK': 20000,\n",
            " 'PAM4': 20000,\n",
            " 'QAM16': 20000,\n",
            " 'QAM64': 20000,\n",
            " 'QPSK': 20000,\n",
            " 'WBFM': 20000}\n"
          ]
        }
      ],
      "source": [
        "dataset = load_RML201610A_dataset(path=data_path)\n",
        "print(len(dataset))\n",
        "pprint(dataset.get_examples_per_class())"
      ]
    },
    {
      "cell_type": "code",
      "execution_count": 26,
      "metadata": {
        "id": "ZNvKWievzsnO",
        "colab": {
          "base_uri": "https://localhost:8080/"
        },
        "outputId": "0e365563-4a4e-43df-8f90-1affba56bb49"
      },
      "outputs": [
        {
          "output_type": "stream",
          "name": "stdout",
          "text": [
            "Training Examples\n",
            "=================\n",
            "{'8PSK': 13280,\n",
            " 'AM-DSB': 13280,\n",
            " 'AM-SSB': 13280,\n",
            " 'BPSK': 13280,\n",
            " 'CPFSK': 13280,\n",
            " 'GFSK': 13280,\n",
            " 'PAM4': 13280,\n",
            " 'QAM16': 13280,\n",
            " 'QAM64': 13280,\n",
            " 'QPSK': 13280,\n",
            " 'WBFM': 13280}\n",
            "=================\n",
            "\n",
            "Validation Examples\n",
            "=================\n",
            "{'8PSK': 700,\n",
            " 'AM-DSB': 700,\n",
            " 'AM-SSB': 700,\n",
            " 'BPSK': 700,\n",
            " 'CPFSK': 700,\n",
            " 'GFSK': 700,\n",
            " 'PAM4': 700,\n",
            " 'QAM16': 700,\n",
            " 'QAM64': 700,\n",
            " 'QPSK': 700,\n",
            " 'WBFM': 700}\n",
            "=================\n",
            "\n",
            "Testing Examples\n",
            "=================\n",
            "{'8PSK': 6020,\n",
            " 'AM-DSB': 6020,\n",
            " 'AM-SSB': 6020,\n",
            " 'BPSK': 6020,\n",
            " 'CPFSK': 6020,\n",
            " 'GFSK': 6020,\n",
            " 'PAM4': 6020,\n",
            " 'QAM16': 6020,\n",
            " 'QAM64': 6020,\n",
            " 'QPSK': 6020,\n",
            " 'WBFM': 6020}\n",
            "=================\n"
          ]
        }
      ],
      "source": [
        "train, test = dataset.split(frac=0.3, on=[\"Modulation\", \"SNR\"])\n",
        "train, val = train.split(frac=0.05, on=[\"Modulation\", \"SNR\"])\n",
        "\n",
        "print(\"Training Examples\")\n",
        "print(\"=================\")\n",
        "pprint(train.get_examples_per_class())\n",
        "print(\"=================\")\n",
        "print()\n",
        "print(\"Validation Examples\")\n",
        "print(\"=================\")\n",
        "pprint(val.get_examples_per_class())\n",
        "print(\"=================\")\n",
        "print()\n",
        "print(\"Testing Examples\")\n",
        "print(\"=================\")\n",
        "pprint(test.get_examples_per_class())\n",
        "print(\"=================\")"
      ]
    },
    {
      "cell_type": "code",
      "execution_count": 27,
      "metadata": {
        "id": "xPb0PiN9zsnR",
        "colab": {
          "base_uri": "https://localhost:8080/"
        },
        "outputId": "7208243e-0fb7-4260-b8ae-2fec95d69d27"
      },
      "outputs": [
        {
          "output_type": "stream",
          "name": "stdout",
          "text": [
            "WBFM: 0\n",
            "AM-DSB: 1\n",
            "AM-SSB: 2\n",
            "CPFSK: 3\n",
            "GFSK: 4\n",
            "BPSK: 5\n",
            "QPSK: 6\n",
            "8PSK: 7\n",
            "PAM4: 8\n",
            "QAM16: 9\n",
            "QAM64: 10\n",
            "\n"
          ]
        }
      ],
      "source": [
        "le = Encoder([\"WBFM\",\n",
        "              \"AM-DSB\",\n",
        "              \"AM-SSB\",\n",
        "              \"CPFSK\",\n",
        "              \"GFSK\",\n",
        "              \"BPSK\",\n",
        "              \"QPSK\",\n",
        "              \"8PSK\",\n",
        "              \"PAM4\",\n",
        "              \"QAM16\",\n",
        "              \"QAM64\"],\n",
        "             label_name=\"Modulation\")\n",
        "print(le)"
      ]
    },
    {
      "cell_type": "code",
      "execution_count": 28,
      "metadata": {
        "id": "Xd0zIGl7zsnT",
        "colab": {
          "base_uri": "https://localhost:8080/",
          "height": 350
        },
        "outputId": "6c22583e-4e50-4181-a976-08488cd10bdb"
      },
      "outputs": [
        {
          "output_type": "display_data",
          "data": {
            "text/plain": [
              "<Figure size 720x360 with 1 Axes>"
            ],
            "image/png": "[encoded data removed]"
          },
          "metadata": {}
        }
      ],
      "source": [
        "# Plot a sample of the data\n",
        "# You can choose a different sample by changing\n",
        "idx = 5\n",
        "snr = 18.0\n",
        "modulation = \"8PSK\"\n",
        "\n",
        "mask = (dataset.df[\"SNR\"] == snr) & (dataset.df[\"Modulation\"] == modulation)\n",
        "sample = dataset.as_numpy(mask=mask, le=le)[0][idx,0,:]\n",
        "t = np.arange(sample.shape[1])\n",
        "\n",
        "title = \"{modulation} Sample at {snr:.0f} dB SNR\".format(modulation=modulation, snr=snr)\n",
        "fig = plot_IQ(iq=sample, title=title)\n",
        "if fig_dir is not None:\n",
        "    file_path = \"{fig_dir}/{modulation}_{snr:.0f}dB_sample.pdf\".format(fig_dir=fig_dir,\n",
        "                                                                       modulation=modulation,\n",
        "                                                                       snr=snr)\n",
        "    print(\"Saving Figure -> {file_path}\".format(file_path=file_path))\n",
        "    fig.savefig(file_path, format=\"pdf\", transparent=True)\n",
        "plt.show()"
      ]
    },
    {
      "cell_type": "markdown",
      "metadata": {
        "id": "WPWtP6dJzsnV"
      },
      "source": [
        "### Creating a Neural Network Model\n",
        "We are going to recreate a Convolutional Neural Network (CNN) based on the \"VT_CNN2\" Architecture.  This network is based off of a network for modulation classification first\n",
        "introduced in [O'Shea et al.] and later updated by [West/Oshea] and [Hauser et al.]\n",
        "to have larger filter sizes.\n",
        "\n",
        "#### Citations\n",
        "##### O'Shea et al.\n",
        "T. J. O'Shea, J. Corgan, and T. C. Clancy, “Convolutional radio modulation recognition networks,” in International Conference on Engineering Applications of Neural Networks, pp. 213–226, Springer,2016.\n",
        "\n",
        "##### West/O'Shea\n",
        "N. E. West and T. O’Shea, “Deep architectures for modulation recognition,” in IEEE International Symposium on Dynamic Spectrum Access Networks (DySPAN), pp. 1–6, IEEE, 2017.\n",
        "\n",
        "##### Hauser et al.\n",
        "S. C. Hauser, W. C. Headley, and A. J.  Michaels, “Signal detection effects on deep neural networks utilizing raw iq for modulation classification,” in Military Communications Conference, pp. 121–127, IEEE, 2017."
      ]
    },
    {
      "cell_type": "code",
      "execution_count": 29,
      "metadata": {
        "id": "QHzcQJGyzsnY"
      },
      "outputs": [],
      "source": [
        "class MyCNN(Model):\n",
        "    def __init__(self, input_samples: int, n_classes: int):\n",
        "        super().__init__(input_samples=input_samples, n_classes=n_classes)\n",
        "        # Batch x 1-channel x IQ x input_samples\n",
        "        # Modifying the first convolutional layer to not use a bias term is a\n",
        "        # modification made by Bryse Flowers due to the observation of vanishing\n",
        "        # gradients during training when ported to PyTorch (other authors used\n",
        "        # Keras).\n",
        "        self.conv1 = nn.Conv2d(\n",
        "            in_channels=1,\n",
        "            out_channels=256,\n",
        "            kernel_size=(1, 7),\n",
        "            padding=(0, 3),\n",
        "            bias=False,\n",
        "        )\n",
        "        self.a1 = nn.ReLU()\n",
        "        self.n1 = nn.BatchNorm2d(256)\n",
        "\n",
        "        self.conv2 = nn.Conv2d(\n",
        "            in_channels=256,\n",
        "            out_channels=80,\n",
        "            kernel_size=(2, 7),\n",
        "            padding=(0, 3),\n",
        "            bias=True,\n",
        "        )\n",
        "        self.a2 = nn.ReLU()\n",
        "        self.n2 = nn.BatchNorm2d(80)\n",
        "\n",
        "        # Batch x Features\n",
        "        self.dense1 = nn.Linear(80 * 1 * input_samples, 256)\n",
        "        self.a3 = nn.ReLU()\n",
        "        self.n3 = nn.BatchNorm1d(256)\n",
        "\n",
        "        self.dense2 = nn.Linear(256, n_classes)\n",
        "\n",
        "    def forward(self, x):\n",
        "        x = self.conv1(x)\n",
        "        x = self.a1(x)\n",
        "        x = self.n1(x)\n",
        "\n",
        "        x = self.conv2(x)\n",
        "        x = self.a2(x)\n",
        "        x = self.n2(x)\n",
        "\n",
        "        # Flatten the input layer down to 1-d by using Tensor operations\n",
        "        x = x.contiguous()\n",
        "        x = x.view(x.size()[0], -1)\n",
        "\n",
        "        x = self.dense1(x)\n",
        "        x = self.a3(x)\n",
        "        x = self.n3(x)\n",
        "\n",
        "        x = self.dense2(x)\n",
        "\n",
        "        return x"
      ]
    },
    {
      "cell_type": "code",
      "execution_count": 118,
      "metadata": {
        "id": "5XcGfWWEzsnZ",
        "colab": {
          "base_uri": "https://localhost:8080/"
        },
        "outputId": "62ab0701-d79e-4e91-941b-73c5472b6b95"
      },
      "outputs": [
        {
          "output_type": "stream",
          "name": "stdout",
          "text": [
            "MyCNN(\n",
            "  (conv1): Conv2d(1, 256, kernel_size=(1, 7), stride=(1, 1), padding=(0, 3), bias=False)\n",
            "  (a1): ReLU()\n",
            "  (n1): BatchNorm2d(256, eps=1e-05, momentum=0.1, affine=True, track_running_stats=True)\n",
            "  (conv2): Conv2d(256, 80, kernel_size=(2, 7), stride=(1, 1), padding=(0, 3))\n",
            "  (a2): ReLU()\n",
            "  (n2): BatchNorm2d(80, eps=1e-05, momentum=0.1, affine=True, track_running_stats=True)\n",
            "  (dense1): Linear(in_features=10240, out_features=256, bias=True)\n",
            "  (a3): ReLU()\n",
            "  (n3): BatchNorm1d(256, eps=1e-05, momentum=0.1, affine=True, track_running_stats=True)\n",
            "  (dense2): Linear(in_features=256, out_features=11, bias=True)\n",
            ")\n",
            "----------------------\n",
            "Trainable Parameters: 2914299\n",
            "Fixed Parameters: 0\n",
            "Total Parameters: 2914299\n",
            "----------------------\n",
            "\n"
          ]
        }
      ],
      "source": [
        "model = MyCNN(input_samples=128, n_classes=11)\n",
        "print(model)"
      ]
    },
    {
      "cell_type": "markdown",
      "metadata": {
        "id": "cdWw1puezsnb"
      },
      "source": [
        "### Implementing a Training Loop"
      ]
    },
    {
      "cell_type": "code",
      "execution_count": 31,
      "metadata": {
        "id": "I39flOAMzsnb"
      },
      "outputs": [],
      "source": [
        "class MyTrainingStrategy(object):\n",
        "\n",
        "    def __init__(self, lr: float = 10e-4, n_epochs: int = 5, gpu: bool = True):\n",
        "        self.lr = lr\n",
        "        self.n_epochs = n_epochs\n",
        "        self.gpu = gpu\n",
        "\n",
        "    def __repr__(self):\n",
        "        ret = self.__class__.__name__\n",
        "        ret += \"(lr={}, n_epochs={}, gpu={})\".format(self.lr, self.n_epochs, self.gpu)\n",
        "        return ret\n",
        "        \n",
        "    def __call__(\n",
        "        self, model: nn.Module, training: Dataset, validation: Dataset, le: Encoder\n",
        "    ):\n",
        "        criterion = nn.CrossEntropyLoss()\n",
        "\n",
        "        if self.gpu:\n",
        "            model.cuda()\n",
        "            criterion.cuda()\n",
        "\n",
        "        optimizer = Adam(model.parameters(), lr=self.lr)\n",
        "\n",
        "        train_data = DataLoader(\n",
        "            training.as_torch(le=le), shuffle=True, batch_size=512\n",
        "        )\n",
        "        val_data = DataLoader(\n",
        "            validation.as_torch(le=le), shuffle=True, batch_size=512\n",
        "        )\n",
        "\n",
        "        # Save two lists for plotting a convergence graph at the end\n",
        "        ret_train_loss = list()\n",
        "        ret_val_loss = list()\n",
        "        \n",
        "        for epoch in range(self.n_epochs):\n",
        "            train_loss = self._train_one_epoch(\n",
        "                model=model, data=train_data, loss_fn=criterion, optimizer=optimizer\n",
        "            )\n",
        "            print(\"On Epoch {} the training loss was {}\".format(epoch, train_loss))\n",
        "            ret_train_loss.append(train_loss)\n",
        "\n",
        "            val_loss = self._validate_once(\n",
        "                model=model, data=val_data, loss_fn=criterion\n",
        "            )\n",
        "            print(\"---- validation loss was {}\".format(val_loss))\n",
        "            ret_val_loss.append(val_loss)\n",
        "\n",
        "        return ret_train_loss, ret_val_loss\n",
        "\n",
        "    def _train_one_epoch(\n",
        "        self, model: nn.Module, data: DataLoader, loss_fn: nn.CrossEntropyLoss, optimizer: Adam\n",
        "    ) -> float:\n",
        "        total_loss = 0.0\n",
        "        # Switch the model mode so it remembers gradients, induces dropout, etc.\n",
        "        model.train()\n",
        "\n",
        "        for i, batch in enumerate(data):\n",
        "            x, y = batch\n",
        "\n",
        "            # Push data to GPU if necessary\n",
        "            if self.gpu:\n",
        "                x = Variable(x.cuda())\n",
        "                y = Variable(y.cuda())\n",
        "            else:\n",
        "                x = Variable(x)\n",
        "                y = Variable(y)\n",
        "\n",
        "            # Forward pass of prediction\n",
        "            outputs = model(x)\n",
        "\n",
        "            # Zero out the parameter gradients, because they are cumulative,\n",
        "            # compute loss, compute gradients (backward), update weights\n",
        "            loss = loss_fn(outputs, y)\n",
        "            optimizer.zero_grad()\n",
        "            loss.backward()\n",
        "            optimizer.step()\n",
        "\n",
        "            total_loss += loss.item()\n",
        "\n",
        "        mean_loss = total_loss / (i + 1.0)\n",
        "        return mean_loss\n",
        "\n",
        "    def _validate_once(\n",
        "        self, model: nn.Module, data: DataLoader, loss_fn: nn.CrossEntropyLoss\n",
        "    ) -> float:\n",
        "        total_loss = 0.0\n",
        "        # Switch the model back to test mode (so that batch norm/dropout doesn't\n",
        "        # take effect)\n",
        "        model.eval()\n",
        "        for i, batch in enumerate(data):\n",
        "            x, y = batch\n",
        "\n",
        "            if self.gpu:\n",
        "                x = x.cuda()\n",
        "                y = y.cuda()\n",
        "\n",
        "            outputs = model(x)\n",
        "            loss = loss_fn(outputs, y)\n",
        "            total_loss += loss.item()\n",
        "\n",
        "        mean_loss = total_loss / (i + 1.0)\n",
        "        return mean_loss"
      ]
    },
    {
      "cell_type": "code",
      "execution_count": 32,
      "metadata": {
        "id": "WajMNLpTzsnc",
        "colab": {
          "base_uri": "https://localhost:8080/"
        },
        "outputId": "f2a244f2-1463-4a0f-b3cf-db6df063048c"
      },
      "outputs": [
        {
          "output_type": "stream",
          "name": "stdout",
          "text": [
            "MyTrainingStrategy(lr=0.001, n_epochs=5, gpu=True)\n"
          ]
        }
      ],
      "source": [
        "trainer = MyTrainingStrategy(gpu=gpu)\n",
        "print(trainer)"
      ]
    },
    {
      "cell_type": "markdown",
      "metadata": {
        "id": "69T8pBd0zsne"
      },
      "source": [
        "### Putting it All Together"
      ]
    },
    {
      "cell_type": "code",
      "execution_count": 33,
      "metadata": {
        "id": "at04fc4Hzsne",
        "colab": {
          "base_uri": "https://localhost:8080/"
        },
        "outputId": "3a778676-4a4f-4682-84c1-8188baed1106"
      },
      "outputs": [
        {
          "output_type": "stream",
          "name": "stdout",
          "text": [
            "On Epoch 0 the training loss was 1.4165945569952052\n",
            "---- validation loss was 1.2580820620059967\n",
            "On Epoch 1 the training loss was 1.1988484067516727\n",
            "---- validation loss was 1.1928621381521225\n",
            "On Epoch 2 the training loss was 1.1318046254711551\n",
            "---- validation loss was 1.1939619332551956\n",
            "On Epoch 3 the training loss was 1.0505323610105715\n",
            "---- validation loss was 1.2183491066098213\n",
            "On Epoch 4 the training loss was 0.9098600645165343\n",
            "---- validation loss was 1.3016280345618725\n"
          ]
        }
      ],
      "source": [
        "train_loss, val_loss = trainer(model=model,\n",
        "                               training=train,\n",
        "                               validation=val,\n",
        "                               le=le)"
      ]
    },
    {
      "cell_type": "code",
      "execution_count": 34,
      "metadata": {
        "id": "MRO2b-Ndzsnf",
        "colab": {
          "base_uri": "https://localhost:8080/",
          "height": 350
        },
        "outputId": "2a5ec9cd-c684-4efd-c353-87a7891d3c31"
      },
      "outputs": [
        {
          "output_type": "display_data",
          "data": {
            "text/plain": [
              "<Figure size 720x360 with 1 Axes>"
            ],
            "image/png": "[encoded data removed]"
          },
          "metadata": {}
        }
      ],
      "source": [
        "title = \"Training Results of {model_name} on {dataset_name}\".format(model_name=\"MyCNN\", dataset_name=\"RML2016.10A\")\n",
        "fig = plot_convergence(train_loss=train_loss, val_loss=val_loss, title=title)\n",
        "if fig_dir is not None:\n",
        "    file_path = \"{fig_dir}/training_loss.pdf\"\n",
        "    print(\"Saving Figure -> {file_path}\".format(file_path=file_path))\n",
        "    fig.savefig(file_path, format=\"pdf\", transparent=True)\n",
        "plt.show()"
      ]
    },
    {
      "cell_type": "markdown",
      "metadata": {
        "id": "XbwKjYygzsnh"
      },
      "source": [
        "### Testing the Trained Model"
      ]
    },
    {
      "cell_type": "code",
      "execution_count": 35,
      "metadata": {
        "id": "uAZ3mZEzzsnh",
        "colab": {
          "base_uri": "https://localhost:8080/"
        },
        "outputId": "b08de0c9-e181-4993-d9d3-8a157b07947a"
      },
      "outputs": [
        {
          "output_type": "stream",
          "name": "stdout",
          "text": [
            "Overall Testing Accuracy: 0.5353\n"
          ]
        }
      ],
      "source": [
        "acc = compute_accuracy(model=model, data=test, le=le)\n",
        "print(\"Overall Testing Accuracy: {:.4f}\".format(acc))"
      ]
    },
    {
      "cell_type": "code",
      "source": [
        "\n",
        "type(test)\n"
      ],
      "metadata": {
        "colab": {
          "base_uri": "https://localhost:8080/"
        },
        "id": "E9NstRSh055P",
        "outputId": "57f7894d-0876-4781-8838-fe3648bf713c"
      },
      "execution_count": 66,
      "outputs": [
        {
          "output_type": "execute_result",
          "data": {
            "text/plain": [
              "rfml.data.dataset.Dataset"
            ]
          },
          "metadata": {},
          "execution_count": 66
        }
      ]
    },
    {
      "cell_type": "code",
      "execution_count": 36,
      "metadata": {
        "id": "v40LSsC4zsni",
        "colab": {
          "base_uri": "https://localhost:8080/",
          "height": 422
        },
        "outputId": "08700f1b-3f8e-4067-cbaa-97ff4c3ea54a"
      },
      "outputs": [
        {
          "output_type": "stream",
          "name": "stdout",
          "text": [
            "acc_vs_snr: [0.4684385382059801, 0.7834491090305044, 0.66626396858955, 0.7408637873754153, 0.0960434913923286, 0.7919057686499547, 0.11023859861069163, 0.33162186650558745, 0.160676532769556, 0.24312896405919662, 0.7952280277861673, 0.093325279371791, 0.7952280277861673, 0.8109332527937179, 0.11718514044095439, 0.79855028692238, 0.557535487768046, 0.7919057686499547, 0.7798248263364542, 0.7743884022953791]\n",
            "snr: [-6, 8, -2, 0, -16, 12, -18, -8, -12, -10, 14, -20, 16, 10, -14, 18, -4, 6, 4, 2]\n",
            "data: <rfml.data.dataset.Dataset object at 0x7ff43d311690>\n"
          ]
        },
        {
          "output_type": "display_data",
          "data": {
            "text/plain": [
              "<Figure size 720x360 with 1 Axes>"
            ],
            "image/png": "[encoded data removed]"
          },
          "metadata": {}
        }
      ],
      "source": [
        "acc_vs_snr, snr = compute_accuracy_on_cross_sections(model=model,\n",
        "                                                     data=test,\n",
        "                                                     le=le,\n",
        "                                                     column=\"SNR\")\n",
        "\n",
        "print(\"acc_vs_snr: {acc_vs_snr}\".format(acc_vs_snr=acc_vs_snr))\n",
        "print(\"snr: {snr}\".format(snr=snr))\n",
        "print(\"data: {data}\".format(data=test))\n",
        "\n",
        "title = \"Accuracy vs SNR of {model_name} on {dataset_name}\".format(model_name=\"MyCNN\", dataset_name=\"RML2016.10A\")\n",
        "fig = plot_acc_vs_snr(acc_vs_snr=acc_vs_snr, snr=snr, title=title)\n",
        "if fig_dir is not None:\n",
        "    file_path = \"{fig_dir}/acc_vs_snr.pdf\"\n",
        "    print(\"Saving Figure -> {file_path}\".format(file_path=file_path))\n",
        "    fig.savefig(file_path, format=\"pdf\", transparent=True)\n",
        "plt.show()"
      ]
    },
    {
      "cell_type": "code",
      "execution_count": 37,
      "metadata": {
        "id": "4V8j3KfYzsnj",
        "colab": {
          "base_uri": "https://localhost:8080/",
          "height": 380
        },
        "outputId": "7d7888e7-4af9-4567-d5a8-435e1e2277bd"
      },
      "outputs": [
        {
          "output_type": "display_data",
          "data": {
            "text/plain": [
              "<Figure size 720x360 with 2 Axes>"
            ],
            "image/png": "[encoded data removed]"
          },
          "metadata": {}
        }
      ],
      "source": [
        "cmn = compute_confusion(model=model, data=test, le=le)\n",
        "\n",
        "title = \"Confusion Matrix of {model_name} on {dataset_name}\".format(model_name=\"MyCNN\", dataset_name=\"RML2016.10A\")\n",
        "fig = plot_confusion(cm=cmn, labels=le.labels, title=title)\n",
        "if fig_dir is not None:\n",
        "    file_path = \"{fig_dir}/confusion_matrix.pdf\"\n",
        "    print(\"Saving Figure -> {file_path}\".format(file_path=file_path))\n",
        "    fig.savefig(file_path, format=\"pdf\", transparent=True)\n",
        "plt.show()"
      ]
    },
    {
      "cell_type": "markdown",
      "source": [
        "Attack fgsm before and after"
      ],
      "metadata": {
        "id": "K6apBJ8oGVI8"
      }
    },
    {
      "cell_type": "code",
      "source": [
        "\n",
        "#_, _, test, le = build_dataset(dataset_name=dataset, test_pct=0.9)\n",
        "mask = test.df[\"SNR\"] >= 18\n",
        "#model = build_model(model_name=\"CNN\", input_samples=128, n_classes=len(le))\n",
        "#model.load(\"cnn.pt\")\n",
        "\n",
        "## No Attack\n",
        "acc = compute_accuracy(model=model, data=test, le=le, mask=mask)\n",
        "print(\"Normal (no attack) Accuracy on Dataset: {:.3f}\".format(acc))\n",
        "\n",
        "# print(model)\n",
        "\n",
        "## ATTACK\n",
        "spr = 10  # dB\n",
        "right = 0\n",
        "total = 0\n",
        "dl = DataLoader(test.as_torch(le=le, mask=mask), shuffle=True, batch_size=512)\n",
        "for x, y in dl:\n",
        "    adv_x = fgsm(x, y, spr=spr, input_size=128, sps=8, net=model)\n",
        "    predictions = model.predict(adv_x)\n",
        "    right += (predictions == y).sum().item()\n",
        "    total += len(y)\n",
        "\n",
        "adv_acc = float(right) / total\n",
        "print(\"Adversarial Accuracy with SPR of {} dB attack: {:.3f}\".format(spr, adv_acc))\n",
        "print(\"FGSM Degraded Model Accuracy by {:.3f}\".format(acc - adv_acc))\n",
        "\n",
        "\n",
        "\n"
      ],
      "metadata": {
        "id": "q5uexu3B3oZJ",
        "colab": {
          "base_uri": "https://localhost:8080/"
        },
        "outputId": "342594f2-6278-444e-8147-248ad116866c"
      },
      "execution_count": 48,
      "outputs": [
        {
          "output_type": "stream",
          "name": "stdout",
          "text": [
            "Normal (no attack) Accuracy on Dataset: 0.799\n",
            "Adversarial Accuracy with SPR of 10 dB attack: 0.121\n",
            "FGSM Degraded Model Accuracy by 0.677\n"
          ]
        }
      ]
    },
    {
      "cell_type": "markdown",
      "source": [
        "Attack pgd before and after"
      ],
      "metadata": {
        "id": "pThcUaf1vfTt"
      }
    },
    {
      "cell_type": "code",
      "source": [
        "def fgsm(x, y, input_size, net, spr, sps):\n",
        "    p = compute_signed_gradient(x=x, y=y, input_size=input_size, net=net)\n",
        "    p = scale_perturbation(sg=p, spr=spr, sps=sps)\n",
        "    \n",
        "    return x + p\n",
        "\n",
        "\n",
        "def compute_signed_gradient(x, y, input_size, net):\n",
        "    # Ensure that the gradient is tracked at the input, add some noise to avoid any\n",
        "    # actual zeros in the signal (dithering), and then ensure its the proper shape\n",
        "    x.requires_grad = True\n",
        "    _x = _dither(x)\n",
        "\n",
        "    # Put the inputs/outputs onto the most probable device that the model is currently\n",
        "    # on -- this could fail if the model gets split amongst multiple devies, but, that\n",
        "    # doesn't happen in this code.\n",
        "    _x = _x.to(net.device)\n",
        "    y = y.to(net.device)\n",
        "\n",
        "    # Perform forward/backward pass to get the gradient at the input\n",
        "    _y = net(_x)\n",
        "    loss = cross_entropy(_y, y)\n",
        "    loss.backward()\n",
        "\n",
        "    # Take the sign of the gradient that can be scaled later\n",
        "    ret = torch.sign(x.grad.data)\n",
        "\n",
        "    return ret\n",
        "\n",
        "\n",
        "def scale_perturbation(sg, spr, sps):\n",
        "    if spr == np.inf:\n",
        "        return sg * 0\n",
        "    multiplier = pow(10, -spr / 10.0)\n",
        "    multiplier = multiplier / (2 * sps)\n",
        "    multiplier = pow(multiplier, 0.5)\n",
        "\n",
        "    return sg * multiplier\n",
        "\n",
        "\n",
        "def _dither(x):\n",
        "    snr = 100\n",
        "    voltage = pow(pow(10.0, -snr / 10.0), 0.5)\n",
        "\n",
        "    noise = x.data.new(x.size()).normal_(0.0, voltage)\n",
        "    return x + noise\n",
        "\n",
        "\n",
        "def _normalize(x):\n",
        "    power = energy(x)\n",
        "    # Make the dimensions match because broadcasting is too magical to\n",
        "    # understand in its entirety... essentially want to ensure that we\n",
        "    # divide each channel of each example by the sqrt of the power of\n",
        "    # that channel/example pair\n",
        "    power = power.view([power.size()[0], power.size()[1], 1, 1])\n",
        "\n",
        "    return x / torch.sqrt(power)\n",
        "\n",
        "\n",
        "def _sanity_check(desired_spr, adv_x, x):\n",
        "    signal_power = energy(x)\n",
        "    perturbation_power = energy(adv_x - x)\n",
        "    _spr = 10*torch.log10(signal_power / perturbation_power)\n",
        "    _spr = _spr.detach().numpy().mean()\n",
        "    if np.abs(_spr - desired_spr) > 0.5:\n",
        "        raise RuntimeError(\"Calculated SPR and desired SPR does not match: \"\n",
        "                           \"Desired SPR={:0.2f}dB, Calculated SPR={:0.2f}dB, \"\n",
        "                           \"Signal Power={:0.2f}dB, Perturbation Power={:0.2f}dB\".format(\n",
        "                               desired_spr,\n",
        "                               _spr,\n",
        "                               10.0*np.log10(signal_power.detach().numpy().mean()),\n",
        "                               10.0*np.log10(perturbation_power.detach().numpy().mean()))\n",
        "                          )"
      ],
      "metadata": {
        "id": "NStMxVk8JHwj"
      },
      "execution_count": 115,
      "outputs": []
    },
    {
      "cell_type": "code",
      "source": [
        "#_, _, test, le = build_dataset(dataset_name=dataset, test_pct=0.9)\n",
        "mask = test.df[\"SNR\"] >= 18\n",
        "#model = build_model(model_name=\"CNN\", input_samples=128, n_classes=len(le))\n",
        "#model.load(\"cnn.pt\")\n",
        "\n",
        "## No Attack\n",
        "acc = compute_accuracy(model=model, data=test, le=le, mask=mask)\n",
        "print(\"Normal (no attack) Accuracy on Dataset: {:.3f}\".format(acc))\n",
        "\n",
        "\n",
        "## ATTACK\n",
        "spr = 10  # dB\n",
        "right = 0\n",
        "total = 0\n",
        "dl = DataLoader(test.as_torch(le=le, mask=mask), shuffle=True, batch_size=512)\n",
        "k = 7 # Number of iterations to use for the attack\n",
        "for x, y in dl:\n",
        "    adv_x = pgd(x, y, k=k, net=model, spr=spr, input_size=128, sps=8)\n",
        "    predictions = model.predict(adv_x)\n",
        "    right += (predictions == y).sum().item()\n",
        "    total += len(y)\n",
        "\n",
        "adv_acc = float(right) / total\n",
        "print(\"Adversarial Accuracy with SPR of {} dB attack: {:.3f}\".format(spr, adv_acc))\n",
        "print(\"PGD Degraded Model Accuracy by {:.3f}\".format(acc - adv_acc))"
      ],
      "metadata": {
        "colab": {
          "base_uri": "https://localhost:8080/"
        },
        "id": "7xw07YZevnOT",
        "outputId": "5f3e9d2b-c6d3-4bf6-f8e4-8097bd402bee"
      },
      "execution_count": 119,
      "outputs": [
        {
          "output_type": "stream",
          "name": "stdout",
          "text": [
            "Normal (no attack) Accuracy on Dataset: 0.091\n",
            "Adversarial Accuracy with SPR of 10 dB attack: 0.085\n",
            "PGD Degraded Model Accuracy by 0.006\n"
          ]
        }
      ]
    },
    {
      "cell_type": "markdown",
      "source": [
        "LSTM Model"
      ],
      "metadata": {
        "id": "yrnBxAdU6wB6"
      }
    },
    {
      "cell_type": "code",
      "source": [
        "import torch \n",
        "import torch.nn as nn\n",
        "import numpy as np\n",
        "import pandas as pd\n",
        "import matplotlib.pyplot as plt"
      ],
      "metadata": {
        "id": "sdYmyWtB7hCf"
      },
      "execution_count": 69,
      "outputs": []
    },
    {
      "cell_type": "code",
      "source": [
        "def input_data(seq, ws):\n",
        "  output = []   \n",
        "  L = len(seq)\n",
        "  for i in range((L) - ws):\n",
        "    window = seq[i:i+ws]\n",
        "    label = seq[i+ws:i+ws+1]\n",
        "    print(i)\n",
        "    output.append((window, label))\n",
        " \n",
        "  return output"
      ],
      "metadata": {
        "id": "6HaS14AQ-AeH"
      },
      "execution_count": 77,
      "outputs": []
    },
    {
      "cell_type": "code",
      "source": [
        "window_size = 40\n",
        "train_data = input_data(sample, window_size)"
      ],
      "metadata": {
        "id": "JoJOtebj-ESF"
      },
      "execution_count": 78,
      "outputs": []
    },
    {
      "cell_type": "code",
      "source": [
        "class myLSTM(nn.Module):\n",
        "  def __init__(self, input_size=1, hidden_size=50, out_size=1):\n",
        "    super().__init__()\n",
        "    self.hidden_size = hidden_size\n",
        "    self.lstm = nn.LSTM(input_size, hidden_size )\n",
        "    self.linear = nn.Linear(hidden_size, out_size)\n",
        "    self.hidden = (torch.zeros(1,1,hidden_size ) , torch.zeros(1,1,hidden_size)  )\n",
        " \n",
        "  def forward(self, seq):\n",
        "    lstm_out, self.hidden = self.lstm(seq.view( len(seq),1,-1 ), self.hidden )\n",
        "    pred = self.linear(lstm_out.view(  len(seq) ,-1 ))  \n",
        "    return pred[-1]"
      ],
      "metadata": {
        "id": "-mi2w3Fa6z2Z"
      },
      "execution_count": 79,
      "outputs": []
    },
    {
      "cell_type": "code",
      "source": [
        "class LSTM(nn.Module):\n",
        "    def __init__(self, hidden_layers=64):\n",
        "        super(LSTM, self).__init__()\n",
        "        self.hidden_layers = hidden_layers\n",
        "        # lstm1, lstm2, linear are all layers in the network\n",
        "        self.lstm1 = nn.LSTMCell(1, self.hidden_layers)\n",
        "        self.lstm2 = nn.LSTMCell(self.hidden_layers, self.hidden_layers)\n",
        "        self.linear = nn.Linear(self.hidden_layers, 1)\n",
        "        \n",
        "    def forward(self, y, future_preds=0):\n",
        "        outputs, num_samples = [], y.size(0)\n",
        "        h_t = torch.zeros(n_samples, self.hidden_layers, dtype=torch.float32)\n",
        "        c_t = torch.zeros(n_samples, self.hidden_layers, dtype=torch.float32)\n",
        "        h_t2 = torch.zeros(n_samples, self.hidden_layers, dtype=torch.float32)\n",
        "        c_t2 = torch.zeros(n_samples, self.hidden_layers, dtype=torch.float32)\n",
        "        \n",
        "        for time_step in y.split(1, dim=1):\n",
        "            # N, 1\n",
        "            h_t, c_t = self.lstm1(input_t, (h_t, c_t)) # initial hidden and cell states\n",
        "            h_t2, c_t2 = self.lstm2(h_t, (h_t2, c_t2)) # new hidden and cell states\n",
        "            output = self.linear(h_t2) # output from the last FC layer\n",
        "            outputs.append(output)\n",
        "            \n",
        "        for i in range(future_preds):\n",
        "            # this only generates future predictions if we pass in future_preds>0\n",
        "            # mirrors the code above, using last output/prediction as input\n",
        "            h_t, c_t = self.lstm1(output, (h_t, c_t))\n",
        "            h_t2, c_t2 = self.lstm2(h_t, (h_t2, c_t2))\n",
        "            output = self.linear(h_t2)\n",
        "            outputs.append(output)\n",
        "        # transform list to tensor    \n",
        "        outputs = torch.cat(outputs, dim=1)\n",
        "        return outputs"
      ],
      "metadata": {
        "id": "iIodqnYNDXWU"
      },
      "execution_count": 97,
      "outputs": []
    },
    {
      "cell_type": "markdown",
      "source": [
        "https://datahacker.rs/011-pytorch-rnn-with-pytorch/#Defining-the-LSTM-model-using-PyTorch\n"
      ],
      "metadata": {
        "id": "PuxlEjJt7E37"
      }
    },
    {
      "cell_type": "code",
      "source": [
        "#model = myLSTM()\n",
        "model = LSTM()\n",
        "criterion = nn.MSELoss()\n",
        "optimizer = torch.optim.SGD(model.parameters(), lr = 0.01)\n",
        "print(model)"
      ],
      "metadata": {
        "colab": {
          "base_uri": "https://localhost:8080/"
        },
        "id": "MYhMe9mS7Gzi",
        "outputId": "bdc15068-e9d5-472f-af0d-f635816fa691"
      },
      "execution_count": 101,
      "outputs": [
        {
          "output_type": "stream",
          "name": "stdout",
          "text": [
            "LSTM(\n",
            "  (lstm1): LSTMCell(1, 64)\n",
            "  (lstm2): LSTMCell(64, 64)\n",
            "  (linear): Linear(in_features=64, out_features=1, bias=True)\n",
            ")\n"
          ]
        }
      ]
    },
    {
      "cell_type": "code",
      "source": [
        "for p in model.parameters():\n",
        "  print(p.numel())"
      ],
      "metadata": {
        "colab": {
          "base_uri": "https://localhost:8080/"
        },
        "id": "d2HtnVH_7wvU",
        "outputId": "7e2479f7-349f-4ff6-b4d6-188f9644daad"
      },
      "execution_count": 85,
      "outputs": [
        {
          "output_type": "stream",
          "name": "stdout",
          "text": [
            "200\n",
            "10000\n",
            "200\n",
            "200\n",
            "50\n",
            "1\n"
          ]
        }
      ]
    },
    {
      "cell_type": "code",
      "source": [
        "type(mask)"
      ],
      "metadata": {
        "colab": {
          "base_uri": "https://localhost:8080/"
        },
        "id": "APi9iEr68QZE",
        "outputId": "5d45163f-2ee8-4f35-baef-6387d3d9acbb"
      },
      "execution_count": 86,
      "outputs": [
        {
          "output_type": "execute_result",
          "data": {
            "text/plain": [
              "pandas.core.series.Series"
            ]
          },
          "metadata": {},
          "execution_count": 86
        }
      ]
    },
    {
      "cell_type": "code",
      "source": [
        "# x = torch.linspace(0,799, 800)\n",
        "# y = torch.sin(x * 2 * np.pi / 40)"
      ],
      "metadata": {
        "id": "eD4IODoN_2As"
      },
      "execution_count": 89,
      "outputs": []
    },
    {
      "cell_type": "code",
      "source": [
        "# print(x)"
      ],
      "metadata": {
        "colab": {
          "base_uri": "https://localhost:8080/"
        },
        "id": "uIkejaUJANeR",
        "outputId": "fee49911-513e-4248-a094-7ef78a63ebd8"
      },
      "execution_count": 93,
      "outputs": [
        {
          "output_type": "stream",
          "name": "stdout",
          "text": [
            "tensor([  0.,   1.,   2.,   3.,   4.,   5.,   6.,   7.,   8.,   9.,  10.,  11.,\n",
            "         12.,  13.,  14.,  15.,  16.,  17.,  18.,  19.,  20.,  21.,  22.,  23.,\n",
            "         24.,  25.,  26.,  27.,  28.,  29.,  30.,  31.,  32.,  33.,  34.,  35.,\n",
            "         36.,  37.,  38.,  39.,  40.,  41.,  42.,  43.,  44.,  45.,  46.,  47.,\n",
            "         48.,  49.,  50.,  51.,  52.,  53.,  54.,  55.,  56.,  57.,  58.,  59.,\n",
            "         60.,  61.,  62.,  63.,  64.,  65.,  66.,  67.,  68.,  69.,  70.,  71.,\n",
            "         72.,  73.,  74.,  75.,  76.,  77.,  78.,  79.,  80.,  81.,  82.,  83.,\n",
            "         84.,  85.,  86.,  87.,  88.,  89.,  90.,  91.,  92.,  93.,  94.,  95.,\n",
            "         96.,  97.,  98.,  99., 100., 101., 102., 103., 104., 105., 106., 107.,\n",
            "        108., 109., 110., 111., 112., 113., 114., 115., 116., 117., 118., 119.,\n",
            "        120., 121., 122., 123., 124., 125., 126., 127., 128., 129., 130., 131.,\n",
            "        132., 133., 134., 135., 136., 137., 138., 139., 140., 141., 142., 143.,\n",
            "        144., 145., 146., 147., 148., 149., 150., 151., 152., 153., 154., 155.,\n",
            "        156., 157., 158., 159., 160., 161., 162., 163., 164., 165., 166., 167.,\n",
            "        168., 169., 170., 171., 172., 173., 174., 175., 176., 177., 178., 179.,\n",
            "        180., 181., 182., 183., 184., 185., 186., 187., 188., 189., 190., 191.,\n",
            "        192., 193., 194., 195., 196., 197., 198., 199., 200., 201., 202., 203.,\n",
            "        204., 205., 206., 207., 208., 209., 210., 211., 212., 213., 214., 215.,\n",
            "        216., 217., 218., 219., 220., 221., 222., 223., 224., 225., 226., 227.,\n",
            "        228., 229., 230., 231., 232., 233., 234., 235., 236., 237., 238., 239.,\n",
            "        240., 241., 242., 243., 244., 245., 246., 247., 248., 249., 250., 251.,\n",
            "        252., 253., 254., 255., 256., 257., 258., 259., 260., 261., 262., 263.,\n",
            "        264., 265., 266., 267., 268., 269., 270., 271., 272., 273., 274., 275.,\n",
            "        276., 277., 278., 279., 280., 281., 282., 283., 284., 285., 286., 287.,\n",
            "        288., 289., 290., 291., 292., 293., 294., 295., 296., 297., 298., 299.,\n",
            "        300., 301., 302., 303., 304., 305., 306., 307., 308., 309., 310., 311.,\n",
            "        312., 313., 314., 315., 316., 317., 318., 319., 320., 321., 322., 323.,\n",
            "        324., 325., 326., 327., 328., 329., 330., 331., 332., 333., 334., 335.,\n",
            "        336., 337., 338., 339., 340., 341., 342., 343., 344., 345., 346., 347.,\n",
            "        348., 349., 350., 351., 352., 353., 354., 355., 356., 357., 358., 359.,\n",
            "        360., 361., 362., 363., 364., 365., 366., 367., 368., 369., 370., 371.,\n",
            "        372., 373., 374., 375., 376., 377., 378., 379., 380., 381., 382., 383.,\n",
            "        384., 385., 386., 387., 388., 389., 390., 391., 392., 393., 394., 395.,\n",
            "        396., 397., 398., 399., 400., 401., 402., 403., 404., 405., 406., 407.,\n",
            "        408., 409., 410., 411., 412., 413., 414., 415., 416., 417., 418., 419.,\n",
            "        420., 421., 422., 423., 424., 425., 426., 427., 428., 429., 430., 431.,\n",
            "        432., 433., 434., 435., 436., 437., 438., 439., 440., 441., 442., 443.,\n",
            "        444., 445., 446., 447., 448., 449., 450., 451., 452., 453., 454., 455.,\n",
            "        456., 457., 458., 459., 460., 461., 462., 463., 464., 465., 466., 467.,\n",
            "        468., 469., 470., 471., 472., 473., 474., 475., 476., 477., 478., 479.,\n",
            "        480., 481., 482., 483., 484., 485., 486., 487., 488., 489., 490., 491.,\n",
            "        492., 493., 494., 495., 496., 497., 498., 499., 500., 501., 502., 503.,\n",
            "        504., 505., 506., 507., 508., 509., 510., 511., 512., 513., 514., 515.,\n",
            "        516., 517., 518., 519., 520., 521., 522., 523., 524., 525., 526., 527.,\n",
            "        528., 529., 530., 531., 532., 533., 534., 535., 536., 537., 538., 539.,\n",
            "        540., 541., 542., 543., 544., 545., 546., 547., 548., 549., 550., 551.,\n",
            "        552., 553., 554., 555., 556., 557., 558., 559., 560., 561., 562., 563.,\n",
            "        564., 565., 566., 567., 568., 569., 570., 571., 572., 573., 574., 575.,\n",
            "        576., 577., 578., 579., 580., 581., 582., 583., 584., 585., 586., 587.,\n",
            "        588., 589., 590., 591., 592., 593., 594., 595., 596., 597., 598., 599.,\n",
            "        600., 601., 602., 603., 604., 605., 606., 607., 608., 609., 610., 611.,\n",
            "        612., 613., 614., 615., 616., 617., 618., 619., 620., 621., 622., 623.,\n",
            "        624., 625., 626., 627., 628., 629., 630., 631., 632., 633., 634., 635.,\n",
            "        636., 637., 638., 639., 640., 641., 642., 643., 644., 645., 646., 647.,\n",
            "        648., 649., 650., 651., 652., 653., 654., 655., 656., 657., 658., 659.,\n",
            "        660., 661., 662., 663., 664., 665., 666., 667., 668., 669., 670., 671.,\n",
            "        672., 673., 674., 675., 676., 677., 678., 679., 680., 681., 682., 683.,\n",
            "        684., 685., 686., 687., 688., 689., 690., 691., 692., 693., 694., 695.,\n",
            "        696., 697., 698., 699., 700., 701., 702., 703., 704., 705., 706., 707.,\n",
            "        708., 709., 710., 711., 712., 713., 714., 715., 716., 717., 718., 719.,\n",
            "        720., 721., 722., 723., 724., 725., 726., 727., 728., 729., 730., 731.,\n",
            "        732., 733., 734., 735., 736., 737., 738., 739., 740., 741., 742., 743.,\n",
            "        744., 745., 746., 747., 748., 749., 750., 751., 752., 753., 754., 755.,\n",
            "        756., 757., 758., 759., 760., 761., 762., 763., 764., 765., 766., 767.,\n",
            "        768., 769., 770., 771., 772., 773., 774., 775., 776., 777., 778., 779.,\n",
            "        780., 781., 782., 783., 784., 785., 786., 787., 788., 789., 790., 791.,\n",
            "        792., 793., 794., 795., 796., 797., 798., 799.])\n"
          ]
        }
      ]
    },
    {
      "cell_type": "code",
      "source": [
        "# print(y)"
      ],
      "metadata": {
        "colab": {
          "base_uri": "https://localhost:8080/"
        },
        "id": "kpECTZzoAQZq",
        "outputId": "7fa9068c-5e0c-4810-8840-9f9bc87e6973"
      },
      "execution_count": 94,
      "outputs": [
        {
          "output_type": "stream",
          "name": "stdout",
          "text": [
            "tensor([ 0.0000e+00,  1.5643e-01,  3.0902e-01,  4.5399e-01,  5.8779e-01,\n",
            "         7.0711e-01,  8.0902e-01,  8.9101e-01,  9.5106e-01,  9.8769e-01,\n",
            "         1.0000e+00,  9.8769e-01,  9.5106e-01,  8.9101e-01,  8.0902e-01,\n",
            "         7.0711e-01,  5.8779e-01,  4.5399e-01,  3.0902e-01,  1.5643e-01,\n",
            "        -8.7423e-08, -1.5643e-01, -3.0902e-01, -4.5399e-01, -5.8779e-01,\n",
            "        -7.0711e-01, -8.0902e-01, -8.9101e-01, -9.5106e-01, -9.8769e-01,\n",
            "        -1.0000e+00, -9.8769e-01, -9.5106e-01, -8.9101e-01, -8.0902e-01,\n",
            "        -7.0711e-01, -5.8779e-01, -4.5399e-01, -3.0902e-01, -1.5643e-01,\n",
            "         1.7485e-07,  1.5643e-01,  3.0902e-01,  4.5399e-01,  5.8779e-01,\n",
            "         7.0711e-01,  8.0902e-01,  8.9101e-01,  9.5106e-01,  9.8769e-01,\n",
            "         1.0000e+00,  9.8769e-01,  9.5106e-01,  8.9101e-01,  8.0902e-01,\n",
            "         7.0711e-01,  5.8778e-01,  4.5399e-01,  3.0902e-01,  1.5643e-01,\n",
            "        -2.3850e-08, -1.5643e-01, -3.0902e-01, -4.5399e-01, -5.8779e-01,\n",
            "        -7.0711e-01, -8.0902e-01, -8.9101e-01, -9.5106e-01, -9.8769e-01,\n",
            "        -1.0000e+00, -9.8769e-01, -9.5106e-01, -8.9101e-01, -8.0902e-01,\n",
            "        -7.0711e-01, -5.8779e-01, -4.5399e-01, -3.0902e-01, -1.5643e-01,\n",
            "         3.4969e-07,  1.5643e-01,  3.0902e-01,  4.5399e-01,  5.8779e-01,\n",
            "         7.0711e-01,  8.0902e-01,  8.9101e-01,  9.5106e-01,  9.8769e-01,\n",
            "         1.0000e+00,  9.8769e-01,  9.5106e-01,  8.9101e-01,  8.0902e-01,\n",
            "         7.0711e-01,  5.8778e-01,  4.5399e-01,  3.0902e-01,  1.5643e-01,\n",
            "        -6.7553e-07, -1.5644e-01, -3.0902e-01, -4.5399e-01, -5.8779e-01,\n",
            "        -7.0711e-01, -8.0902e-01, -8.9101e-01, -9.5106e-01, -9.8769e-01,\n",
            "        -1.0000e+00, -9.8769e-01, -9.5106e-01, -8.9101e-01, -8.0902e-01,\n",
            "        -7.0711e-01, -5.8779e-01, -4.5399e-01, -3.0902e-01, -1.5643e-01,\n",
            "         4.7700e-08,  1.5643e-01,  3.0902e-01,  4.5399e-01,  5.8779e-01,\n",
            "         7.0711e-01,  8.0902e-01,  8.9101e-01,  9.5106e-01,  9.8769e-01,\n",
            "         1.0000e+00,  9.8769e-01,  9.5106e-01,  8.9101e-01,  8.0902e-01,\n",
            "         7.0711e-01,  5.8778e-01,  4.5399e-01,  3.0902e-01,  1.5643e-01,\n",
            "        -1.3272e-06, -1.5643e-01, -3.0902e-01, -4.5399e-01, -5.8779e-01,\n",
            "        -7.0711e-01, -8.0902e-01, -8.9101e-01, -9.5106e-01, -9.8769e-01,\n",
            "        -1.0000e+00, -9.8769e-01, -9.5106e-01, -8.9101e-01, -8.0902e-01,\n",
            "        -7.0711e-01, -5.8778e-01, -4.5399e-01, -3.0902e-01, -1.5643e-01,\n",
            "         6.9938e-07,  1.5644e-01,  3.0902e-01,  4.5399e-01,  5.8778e-01,\n",
            "         7.0711e-01,  8.0902e-01,  8.9101e-01,  9.5106e-01,  9.8769e-01,\n",
            "         1.0000e+00,  9.8769e-01,  9.5106e-01,  8.9101e-01,  8.0902e-01,\n",
            "         7.0711e-01,  5.8778e-01,  4.5399e-01,  3.0902e-01,  1.5643e-01,\n",
            "        -7.1549e-08, -1.5644e-01, -3.0902e-01, -4.5399e-01, -5.8779e-01,\n",
            "        -7.0711e-01, -8.0902e-01, -8.9101e-01, -9.5106e-01, -9.8769e-01,\n",
            "        -1.0000e+00, -9.8769e-01, -9.5106e-01, -8.9101e-01, -8.0902e-01,\n",
            "        -7.0711e-01, -5.8778e-01, -4.5399e-01, -3.0902e-01, -1.5644e-01,\n",
            "         1.3511e-06,  1.5644e-01,  3.0902e-01,  4.5399e-01,  5.8779e-01,\n",
            "         7.0711e-01,  8.0902e-01,  8.9101e-01,  9.5106e-01,  9.8769e-01,\n",
            "         1.0000e+00,  9.8769e-01,  9.5106e-01,  8.9101e-01,  8.0902e-01,\n",
            "         7.0711e-01,  5.8778e-01,  4.5399e-01,  3.0902e-01,  1.5643e-01,\n",
            "         1.1841e-06, -1.5644e-01, -3.0902e-01, -4.5399e-01, -5.8779e-01,\n",
            "        -7.0711e-01, -8.0902e-01, -8.9101e-01, -9.5106e-01, -9.8769e-01,\n",
            "        -1.0000e+00, -9.8769e-01, -9.5106e-01, -8.9101e-01, -8.0902e-01,\n",
            "        -7.0711e-01, -5.8779e-01, -4.5399e-01, -3.0901e-01, -1.5644e-01,\n",
            "         9.5399e-08,  1.5644e-01,  3.0902e-01,  4.5399e-01,  5.8779e-01,\n",
            "         7.0711e-01,  8.0902e-01,  8.9101e-01,  9.5106e-01,  9.8769e-01,\n",
            "         1.0000e+00,  9.8769e-01,  9.5106e-01,  8.9101e-01,  8.0902e-01,\n",
            "         7.0711e-01,  5.8778e-01,  4.5399e-01,  3.0902e-01,  1.5643e-01,\n",
            "        -1.3749e-06, -1.5643e-01, -3.0902e-01, -4.5399e-01, -5.8779e-01,\n",
            "        -7.0711e-01, -8.0902e-01, -8.9101e-01, -9.5106e-01, -9.8769e-01,\n",
            "        -1.0000e+00, -9.8769e-01, -9.5106e-01, -8.9100e-01, -8.0902e-01,\n",
            "        -7.0711e-01, -5.8778e-01, -4.5399e-01, -3.0901e-01, -1.5643e-01,\n",
            "         2.6544e-06,  1.5644e-01,  3.0902e-01,  4.5399e-01,  5.8779e-01,\n",
            "         7.0711e-01,  8.0902e-01,  8.9101e-01,  9.5106e-01,  9.8769e-01,\n",
            "         1.0000e+00,  9.8769e-01,  9.5106e-01,  8.9101e-01,  8.0901e-01,\n",
            "         7.0711e-01,  5.8779e-01,  4.5399e-01,  3.0902e-01,  1.5643e-01,\n",
            "        -3.9339e-06, -1.5643e-01, -3.0902e-01, -4.5399e-01, -5.8779e-01,\n",
            "        -7.0711e-01, -8.0902e-01, -8.9101e-01, -9.5106e-01, -9.8769e-01,\n",
            "        -1.0000e+00, -9.8769e-01, -9.5106e-01, -8.9101e-01, -8.0902e-01,\n",
            "        -7.0711e-01, -5.8778e-01, -4.5399e-01, -3.0902e-01, -1.5643e-01,\n",
            "         1.3988e-06,  1.5644e-01,  3.0902e-01,  4.5399e-01,  5.8779e-01,\n",
            "         7.0711e-01,  8.0902e-01,  8.9101e-01,  9.5106e-01,  9.8769e-01,\n",
            "         1.0000e+00,  9.8769e-01,  9.5106e-01,  8.9101e-01,  8.0902e-01,\n",
            "         7.0710e-01,  5.8778e-01,  4.5399e-01,  3.0901e-01,  1.5643e-01,\n",
            "         1.1364e-06, -1.5644e-01, -3.0902e-01, -4.5399e-01, -5.8778e-01,\n",
            "        -7.0711e-01, -8.0902e-01, -8.9101e-01, -9.5106e-01, -9.8769e-01,\n",
            "        -1.0000e+00, -9.8769e-01, -9.5106e-01, -8.9101e-01, -8.0902e-01,\n",
            "        -7.0711e-01, -5.8779e-01, -4.5399e-01, -3.0902e-01, -1.5643e-01,\n",
            "         1.4310e-07,  1.5644e-01,  3.0902e-01,  4.5399e-01,  5.8779e-01,\n",
            "         7.0711e-01,  8.0902e-01,  8.9101e-01,  9.5106e-01,  9.8769e-01,\n",
            "         1.0000e+00,  9.8769e-01,  9.5106e-01,  8.9101e-01,  8.0902e-01,\n",
            "         7.0710e-01,  5.8778e-01,  4.5399e-01,  3.0901e-01,  1.5643e-01,\n",
            "        -5.2373e-06, -1.5643e-01, -3.0901e-01, -4.5399e-01, -5.8779e-01,\n",
            "        -7.0711e-01, -8.0902e-01, -8.9101e-01, -9.5106e-01, -9.8769e-01,\n",
            "        -1.0000e+00, -9.8769e-01, -9.5106e-01, -8.9100e-01, -8.0901e-01,\n",
            "        -7.0711e-01, -5.8779e-01, -4.5399e-01, -3.0902e-01, -1.5643e-01,\n",
            "         2.7021e-06,  1.5644e-01,  3.0902e-01,  4.5399e-01,  5.8779e-01,\n",
            "         7.0711e-01,  8.0902e-01,  8.9101e-01,  9.5106e-01,  9.8769e-01,\n",
            "         1.0000e+00,  9.8769e-01,  9.5106e-01,  8.9101e-01,  8.0902e-01,\n",
            "         7.0711e-01,  5.8778e-01,  4.5399e-01,  3.0902e-01,  1.5643e-01,\n",
            "        -3.9816e-06, -1.5644e-01, -3.0902e-01, -4.5399e-01, -5.8778e-01,\n",
            "        -7.0711e-01, -8.0902e-01, -8.9101e-01, -9.5106e-01, -9.8769e-01,\n",
            "        -1.0000e+00, -9.8769e-01, -9.5106e-01, -8.9100e-01, -8.0902e-01,\n",
            "        -7.0710e-01, -5.8779e-01, -4.5399e-01, -3.0902e-01, -1.5643e-01,\n",
            "        -2.3682e-06,  1.5643e-01,  3.0902e-01,  4.5399e-01,  5.8779e-01,\n",
            "         7.0711e-01,  8.0902e-01,  8.9101e-01,  9.5106e-01,  9.8769e-01,\n",
            "         1.0000e+00,  9.8769e-01,  9.5106e-01,  8.9101e-01,  8.0902e-01,\n",
            "         7.0710e-01,  5.8779e-01,  4.5399e-01,  3.0901e-01,  1.5643e-01,\n",
            "        -6.5407e-06, -1.5644e-01, -3.0902e-01, -4.5399e-01, -5.8778e-01,\n",
            "        -7.0711e-01, -8.0902e-01, -8.9101e-01, -9.5106e-01, -9.8769e-01,\n",
            "        -1.0000e+00, -9.8769e-01, -9.5106e-01, -8.9101e-01, -8.0901e-01,\n",
            "        -7.0710e-01, -5.8778e-01, -4.5399e-01, -3.0902e-01, -1.5644e-01,\n",
            "         1.9080e-07,  1.5644e-01,  3.0902e-01,  4.5399e-01,  5.8779e-01,\n",
            "         7.0711e-01,  8.0902e-01,  8.9101e-01,  9.5106e-01,  9.8769e-01,\n",
            "         1.0000e+00,  9.8769e-01,  9.5106e-01,  8.9101e-01,  8.0902e-01,\n",
            "         7.0711e-01,  5.8778e-01,  4.5399e-01,  3.0901e-01,  1.5643e-01,\n",
            "        -1.4703e-06, -1.5644e-01, -3.0902e-01, -4.5400e-01, -5.8779e-01,\n",
            "        -7.0711e-01, -8.0902e-01, -8.9101e-01, -9.5106e-01, -9.8769e-01,\n",
            "        -1.0000e+00, -9.8769e-01, -9.5106e-01, -8.9100e-01, -8.0901e-01,\n",
            "        -7.0711e-01, -5.8778e-01, -4.5399e-01, -3.0901e-01, -1.5643e-01,\n",
            "         2.7498e-06,  1.5643e-01,  3.0902e-01,  4.5399e-01,  5.8779e-01,\n",
            "         7.0711e-01,  8.0902e-01,  8.9101e-01,  9.5106e-01,  9.8769e-01,\n",
            "         1.0000e+00,  9.8769e-01,  9.5106e-01,  8.9101e-01,  8.0902e-01,\n",
            "         7.0711e-01,  5.8778e-01,  4.5399e-01,  3.0902e-01,  1.5643e-01,\n",
            "        -4.0293e-06, -1.5644e-01, -3.0902e-01, -4.5399e-01, -5.8779e-01,\n",
            "        -7.0711e-01, -8.0902e-01, -8.9101e-01, -9.5106e-01, -9.8769e-01,\n",
            "        -1.0000e+00, -9.8769e-01, -9.5106e-01, -8.9101e-01, -8.0902e-01,\n",
            "        -7.0710e-01, -5.8778e-01, -4.5398e-01, -3.0902e-01, -1.5643e-01,\n",
            "         5.3089e-06,  1.5643e-01,  3.0902e-01,  4.5399e-01,  5.8778e-01,\n",
            "         7.0711e-01,  8.0902e-01,  8.9101e-01,  9.5106e-01,  9.8769e-01,\n",
            "         1.0000e+00,  9.8769e-01,  9.5105e-01,  8.9100e-01,  8.0902e-01,\n",
            "         7.0711e-01,  5.8779e-01,  4.5399e-01,  3.0901e-01,  1.5643e-01,\n",
            "         1.0410e-06, -1.5644e-01, -3.0902e-01, -4.5399e-01, -5.8779e-01,\n",
            "        -7.0711e-01, -8.0902e-01, -8.9101e-01, -9.5106e-01, -9.8769e-01,\n",
            "        -1.0000e+00, -9.8769e-01, -9.5106e-01, -8.9101e-01, -8.0901e-01,\n",
            "        -7.0710e-01, -5.8779e-01, -4.5399e-01, -3.0901e-01, -1.5643e-01,\n",
            "         7.8679e-06,  1.5644e-01,  3.0901e-01,  4.5399e-01,  5.8779e-01,\n",
            "         7.0711e-01,  8.0902e-01,  8.9101e-01,  9.5106e-01,  9.8769e-01,\n",
            "         1.0000e+00,  9.8769e-01,  9.5106e-01,  8.9101e-01,  8.0901e-01,\n",
            "         7.0710e-01,  5.8778e-01,  4.5399e-01,  3.0902e-01,  1.5643e-01,\n",
            "        -1.5180e-06, -1.5644e-01, -3.0902e-01, -4.5399e-01, -5.8779e-01,\n",
            "        -7.0711e-01, -8.0902e-01, -8.9101e-01, -9.5106e-01, -9.8769e-01,\n",
            "        -1.0000e+00, -9.8769e-01, -9.5106e-01, -8.9100e-01, -8.0902e-01,\n",
            "        -7.0711e-01, -5.8778e-01, -4.5399e-01, -3.0901e-01, -1.5643e-01,\n",
            "         2.7975e-06,  1.5644e-01,  3.0902e-01,  4.5400e-01,  5.8779e-01,\n",
            "         7.0710e-01,  8.0902e-01,  8.9101e-01,  9.5106e-01,  9.8769e-01,\n",
            "         1.0000e+00,  9.8769e-01,  9.5106e-01,  8.9101e-01,  8.0902e-01,\n",
            "         7.0711e-01,  5.8779e-01,  4.5399e-01,  3.0902e-01,  1.5643e-01,\n",
            "        -4.0770e-06, -1.5643e-01, -3.0902e-01, -4.5399e-01, -5.8779e-01,\n",
            "        -7.0711e-01, -8.0902e-01, -8.9101e-01, -9.5106e-01, -9.8769e-01,\n",
            "        -1.0000e+00, -9.8769e-01, -9.5106e-01, -8.9100e-01, -8.0901e-01,\n",
            "        -7.0710e-01, -5.8778e-01, -4.5398e-01, -3.0901e-01, -1.5644e-01,\n",
            "        -2.2728e-06,  1.5643e-01,  3.0902e-01,  4.5399e-01,  5.8778e-01,\n",
            "         7.0711e-01,  8.0902e-01,  8.9101e-01,  9.5106e-01,  9.8769e-01,\n",
            "         1.0000e+00,  9.8769e-01,  9.5105e-01,  8.9101e-01,  8.0902e-01,\n",
            "         7.0710e-01,  5.8778e-01,  4.5398e-01,  3.0901e-01,  1.5643e-01,\n",
            "        -6.6361e-06, -1.5644e-01, -3.0903e-01, -4.5399e-01, -5.8779e-01,\n",
            "        -7.0711e-01, -8.0901e-01, -8.9101e-01, -9.5106e-01, -9.8769e-01,\n",
            "        -1.0000e+00, -9.8769e-01, -9.5106e-01, -8.9101e-01, -8.0901e-01,\n",
            "        -7.0711e-01, -5.8779e-01, -4.5399e-01, -3.0901e-01, -1.5643e-01,\n",
            "         2.8620e-07,  1.5644e-01,  3.0902e-01,  4.5400e-01,  5.8779e-01,\n",
            "         7.0711e-01,  8.0902e-01,  8.9101e-01,  9.5106e-01,  9.8769e-01,\n",
            "         1.0000e+00,  9.8769e-01,  9.5105e-01,  8.9100e-01,  8.0902e-01,\n",
            "         7.0711e-01,  5.8778e-01,  4.5399e-01,  3.0902e-01,  1.5643e-01,\n",
            "        -1.5657e-06, -1.5644e-01, -3.0901e-01, -4.5399e-01, -5.8779e-01,\n",
            "        -7.0711e-01, -8.0902e-01, -8.9101e-01, -9.5106e-01, -9.8769e-01,\n",
            "        -1.0000e+00, -9.8769e-01, -9.5106e-01, -8.9100e-01, -8.0901e-01,\n",
            "        -7.0710e-01, -5.8778e-01, -4.5399e-01, -3.0901e-01, -1.5643e-01,\n",
            "         1.0475e-05,  1.5645e-01,  3.0902e-01,  4.5399e-01,  5.8778e-01,\n",
            "         7.0710e-01,  8.0902e-01,  8.9101e-01,  9.5106e-01,  9.8769e-01,\n",
            "         1.0000e+00,  9.8769e-01,  9.5106e-01,  8.9100e-01,  8.0902e-01,\n",
            "         7.0711e-01,  5.8778e-01,  4.5399e-01,  3.0901e-01,  1.5643e-01,\n",
            "        -4.1247e-06, -1.5644e-01, -3.0902e-01, -4.5400e-01, -5.8779e-01,\n",
            "        -7.0711e-01, -8.0902e-01, -8.9101e-01, -9.5106e-01, -9.8769e-01,\n",
            "        -1.0000e+00, -9.8769e-01, -9.5106e-01, -8.9101e-01, -8.0902e-01,\n",
            "        -7.0710e-01, -5.8779e-01, -4.5399e-01, -3.0902e-01, -1.5643e-01])\n"
          ]
        }
      ]
    },
    {
      "cell_type": "code",
      "source": [
        "plt.figure(figsize = (12,4))\n",
        "plt.xlim(-10, 801)\n",
        "plt.grid(True)\n",
        "plt.plot(y.numpy() )"
      ],
      "metadata": {
        "colab": {
          "base_uri": "https://localhost:8080/",
          "height": 282
        },
        "id": "_t6S_Gyy_3Fa",
        "outputId": "2f5b450a-acea-46f1-a4c7-db685300f95c"
      },
      "execution_count": 90,
      "outputs": [
        {
          "output_type": "execute_result",
          "data": {
            "text/plain": [
              "[<matplotlib.lines.Line2D at 0x7ff218517d90>]"
            ]
          },
          "metadata": {},
          "execution_count": 90
        },
        {
          "output_type": "display_data",
          "data": {
            "text/plain": [
              "<Figure size 864x288 with 1 Axes>"
            ],
            "image/png": "[encoded data removed]"
          },
          "metadata": {}
        }
      ]
    },
    {
      "cell_type": "code",
      "source": [
        "test_size = 40\n",
        "# train_set = y[:-test_size]\n",
        "# test_set = y[-test_size:]"
      ],
      "metadata": {
        "id": "voFcvoWY_6cb"
      },
      "execution_count": 91,
      "outputs": []
    },
    {
      "cell_type": "code",
      "source": [
        "# print(train_set)"
      ],
      "metadata": {
        "colab": {
          "base_uri": "https://localhost:8080/"
        },
        "id": "9S6kILg7_-aq",
        "outputId": "609470a6-ccd7-4a2d-9d6b-df492504735f"
      },
      "execution_count": 92,
      "outputs": [
        {
          "output_type": "stream",
          "name": "stdout",
          "text": [
            "tensor([ 0.0000e+00,  1.5643e-01,  3.0902e-01,  4.5399e-01,  5.8779e-01,\n",
            "         7.0711e-01,  8.0902e-01,  8.9101e-01,  9.5106e-01,  9.8769e-01,\n",
            "         1.0000e+00,  9.8769e-01,  9.5106e-01,  8.9101e-01,  8.0902e-01,\n",
            "         7.0711e-01,  5.8779e-01,  4.5399e-01,  3.0902e-01,  1.5643e-01,\n",
            "        -8.7423e-08, -1.5643e-01, -3.0902e-01, -4.5399e-01, -5.8779e-01,\n",
            "        -7.0711e-01, -8.0902e-01, -8.9101e-01, -9.5106e-01, -9.8769e-01,\n",
            "        -1.0000e+00, -9.8769e-01, -9.5106e-01, -8.9101e-01, -8.0902e-01,\n",
            "        -7.0711e-01, -5.8779e-01, -4.5399e-01, -3.0902e-01, -1.5643e-01,\n",
            "         1.7485e-07,  1.5643e-01,  3.0902e-01,  4.5399e-01,  5.8779e-01,\n",
            "         7.0711e-01,  8.0902e-01,  8.9101e-01,  9.5106e-01,  9.8769e-01,\n",
            "         1.0000e+00,  9.8769e-01,  9.5106e-01,  8.9101e-01,  8.0902e-01,\n",
            "         7.0711e-01,  5.8778e-01,  4.5399e-01,  3.0902e-01,  1.5643e-01,\n",
            "        -2.3850e-08, -1.5643e-01, -3.0902e-01, -4.5399e-01, -5.8779e-01,\n",
            "        -7.0711e-01, -8.0902e-01, -8.9101e-01, -9.5106e-01, -9.8769e-01,\n",
            "        -1.0000e+00, -9.8769e-01, -9.5106e-01, -8.9101e-01, -8.0902e-01,\n",
            "        -7.0711e-01, -5.8779e-01, -4.5399e-01, -3.0902e-01, -1.5643e-01,\n",
            "         3.4969e-07,  1.5643e-01,  3.0902e-01,  4.5399e-01,  5.8779e-01,\n",
            "         7.0711e-01,  8.0902e-01,  8.9101e-01,  9.5106e-01,  9.8769e-01,\n",
            "         1.0000e+00,  9.8769e-01,  9.5106e-01,  8.9101e-01,  8.0902e-01,\n",
            "         7.0711e-01,  5.8778e-01,  4.5399e-01,  3.0902e-01,  1.5643e-01,\n",
            "        -6.7553e-07, -1.5644e-01, -3.0902e-01, -4.5399e-01, -5.8779e-01,\n",
            "        -7.0711e-01, -8.0902e-01, -8.9101e-01, -9.5106e-01, -9.8769e-01,\n",
            "        -1.0000e+00, -9.8769e-01, -9.5106e-01, -8.9101e-01, -8.0902e-01,\n",
            "        -7.0711e-01, -5.8779e-01, -4.5399e-01, -3.0902e-01, -1.5643e-01,\n",
            "         4.7700e-08,  1.5643e-01,  3.0902e-01,  4.5399e-01,  5.8779e-01,\n",
            "         7.0711e-01,  8.0902e-01,  8.9101e-01,  9.5106e-01,  9.8769e-01,\n",
            "         1.0000e+00,  9.8769e-01,  9.5106e-01,  8.9101e-01,  8.0902e-01,\n",
            "         7.0711e-01,  5.8778e-01,  4.5399e-01,  3.0902e-01,  1.5643e-01,\n",
            "        -1.3272e-06, -1.5643e-01, -3.0902e-01, -4.5399e-01, -5.8779e-01,\n",
            "        -7.0711e-01, -8.0902e-01, -8.9101e-01, -9.5106e-01, -9.8769e-01,\n",
            "        -1.0000e+00, -9.8769e-01, -9.5106e-01, -8.9101e-01, -8.0902e-01,\n",
            "        -7.0711e-01, -5.8778e-01, -4.5399e-01, -3.0902e-01, -1.5643e-01,\n",
            "         6.9938e-07,  1.5644e-01,  3.0902e-01,  4.5399e-01,  5.8778e-01,\n",
            "         7.0711e-01,  8.0902e-01,  8.9101e-01,  9.5106e-01,  9.8769e-01,\n",
            "         1.0000e+00,  9.8769e-01,  9.5106e-01,  8.9101e-01,  8.0902e-01,\n",
            "         7.0711e-01,  5.8778e-01,  4.5399e-01,  3.0902e-01,  1.5643e-01,\n",
            "        -7.1549e-08, -1.5644e-01, -3.0902e-01, -4.5399e-01, -5.8779e-01,\n",
            "        -7.0711e-01, -8.0902e-01, -8.9101e-01, -9.5106e-01, -9.8769e-01,\n",
            "        -1.0000e+00, -9.8769e-01, -9.5106e-01, -8.9101e-01, -8.0902e-01,\n",
            "        -7.0711e-01, -5.8778e-01, -4.5399e-01, -3.0902e-01, -1.5644e-01,\n",
            "         1.3511e-06,  1.5644e-01,  3.0902e-01,  4.5399e-01,  5.8779e-01,\n",
            "         7.0711e-01,  8.0902e-01,  8.9101e-01,  9.5106e-01,  9.8769e-01,\n",
            "         1.0000e+00,  9.8769e-01,  9.5106e-01,  8.9101e-01,  8.0902e-01,\n",
            "         7.0711e-01,  5.8778e-01,  4.5399e-01,  3.0902e-01,  1.5643e-01,\n",
            "         1.1841e-06, -1.5644e-01, -3.0902e-01, -4.5399e-01, -5.8779e-01,\n",
            "        -7.0711e-01, -8.0902e-01, -8.9101e-01, -9.5106e-01, -9.8769e-01,\n",
            "        -1.0000e+00, -9.8769e-01, -9.5106e-01, -8.9101e-01, -8.0902e-01,\n",
            "        -7.0711e-01, -5.8779e-01, -4.5399e-01, -3.0901e-01, -1.5644e-01,\n",
            "         9.5399e-08,  1.5644e-01,  3.0902e-01,  4.5399e-01,  5.8779e-01,\n",
            "         7.0711e-01,  8.0902e-01,  8.9101e-01,  9.5106e-01,  9.8769e-01,\n",
            "         1.0000e+00,  9.8769e-01,  9.5106e-01,  8.9101e-01,  8.0902e-01,\n",
            "         7.0711e-01,  5.8778e-01,  4.5399e-01,  3.0902e-01,  1.5643e-01,\n",
            "        -1.3749e-06, -1.5643e-01, -3.0902e-01, -4.5399e-01, -5.8779e-01,\n",
            "        -7.0711e-01, -8.0902e-01, -8.9101e-01, -9.5106e-01, -9.8769e-01,\n",
            "        -1.0000e+00, -9.8769e-01, -9.5106e-01, -8.9100e-01, -8.0902e-01,\n",
            "        -7.0711e-01, -5.8778e-01, -4.5399e-01, -3.0901e-01, -1.5643e-01,\n",
            "         2.6544e-06,  1.5644e-01,  3.0902e-01,  4.5399e-01,  5.8779e-01,\n",
            "         7.0711e-01,  8.0902e-01,  8.9101e-01,  9.5106e-01,  9.8769e-01,\n",
            "         1.0000e+00,  9.8769e-01,  9.5106e-01,  8.9101e-01,  8.0901e-01,\n",
            "         7.0711e-01,  5.8779e-01,  4.5399e-01,  3.0902e-01,  1.5643e-01,\n",
            "        -3.9339e-06, -1.5643e-01, -3.0902e-01, -4.5399e-01, -5.8779e-01,\n",
            "        -7.0711e-01, -8.0902e-01, -8.9101e-01, -9.5106e-01, -9.8769e-01,\n",
            "        -1.0000e+00, -9.8769e-01, -9.5106e-01, -8.9101e-01, -8.0902e-01,\n",
            "        -7.0711e-01, -5.8778e-01, -4.5399e-01, -3.0902e-01, -1.5643e-01,\n",
            "         1.3988e-06,  1.5644e-01,  3.0902e-01,  4.5399e-01,  5.8779e-01,\n",
            "         7.0711e-01,  8.0902e-01,  8.9101e-01,  9.5106e-01,  9.8769e-01,\n",
            "         1.0000e+00,  9.8769e-01,  9.5106e-01,  8.9101e-01,  8.0902e-01,\n",
            "         7.0710e-01,  5.8778e-01,  4.5399e-01,  3.0901e-01,  1.5643e-01,\n",
            "         1.1364e-06, -1.5644e-01, -3.0902e-01, -4.5399e-01, -5.8778e-01,\n",
            "        -7.0711e-01, -8.0902e-01, -8.9101e-01, -9.5106e-01, -9.8769e-01,\n",
            "        -1.0000e+00, -9.8769e-01, -9.5106e-01, -8.9101e-01, -8.0902e-01,\n",
            "        -7.0711e-01, -5.8779e-01, -4.5399e-01, -3.0902e-01, -1.5643e-01,\n",
            "         1.4310e-07,  1.5644e-01,  3.0902e-01,  4.5399e-01,  5.8779e-01,\n",
            "         7.0711e-01,  8.0902e-01,  8.9101e-01,  9.5106e-01,  9.8769e-01,\n",
            "         1.0000e+00,  9.8769e-01,  9.5106e-01,  8.9101e-01,  8.0902e-01,\n",
            "         7.0710e-01,  5.8778e-01,  4.5399e-01,  3.0901e-01,  1.5643e-01,\n",
            "        -5.2373e-06, -1.5643e-01, -3.0901e-01, -4.5399e-01, -5.8779e-01,\n",
            "        -7.0711e-01, -8.0902e-01, -8.9101e-01, -9.5106e-01, -9.8769e-01,\n",
            "        -1.0000e+00, -9.8769e-01, -9.5106e-01, -8.9100e-01, -8.0901e-01,\n",
            "        -7.0711e-01, -5.8779e-01, -4.5399e-01, -3.0902e-01, -1.5643e-01,\n",
            "         2.7021e-06,  1.5644e-01,  3.0902e-01,  4.5399e-01,  5.8779e-01,\n",
            "         7.0711e-01,  8.0902e-01,  8.9101e-01,  9.5106e-01,  9.8769e-01,\n",
            "         1.0000e+00,  9.8769e-01,  9.5106e-01,  8.9101e-01,  8.0902e-01,\n",
            "         7.0711e-01,  5.8778e-01,  4.5399e-01,  3.0902e-01,  1.5643e-01,\n",
            "        -3.9816e-06, -1.5644e-01, -3.0902e-01, -4.5399e-01, -5.8778e-01,\n",
            "        -7.0711e-01, -8.0902e-01, -8.9101e-01, -9.5106e-01, -9.8769e-01,\n",
            "        -1.0000e+00, -9.8769e-01, -9.5106e-01, -8.9100e-01, -8.0902e-01,\n",
            "        -7.0710e-01, -5.8779e-01, -4.5399e-01, -3.0902e-01, -1.5643e-01,\n",
            "        -2.3682e-06,  1.5643e-01,  3.0902e-01,  4.5399e-01,  5.8779e-01,\n",
            "         7.0711e-01,  8.0902e-01,  8.9101e-01,  9.5106e-01,  9.8769e-01,\n",
            "         1.0000e+00,  9.8769e-01,  9.5106e-01,  8.9101e-01,  8.0902e-01,\n",
            "         7.0710e-01,  5.8779e-01,  4.5399e-01,  3.0901e-01,  1.5643e-01,\n",
            "        -6.5407e-06, -1.5644e-01, -3.0902e-01, -4.5399e-01, -5.8778e-01,\n",
            "        -7.0711e-01, -8.0902e-01, -8.9101e-01, -9.5106e-01, -9.8769e-01,\n",
            "        -1.0000e+00, -9.8769e-01, -9.5106e-01, -8.9101e-01, -8.0901e-01,\n",
            "        -7.0710e-01, -5.8778e-01, -4.5399e-01, -3.0902e-01, -1.5644e-01,\n",
            "         1.9080e-07,  1.5644e-01,  3.0902e-01,  4.5399e-01,  5.8779e-01,\n",
            "         7.0711e-01,  8.0902e-01,  8.9101e-01,  9.5106e-01,  9.8769e-01,\n",
            "         1.0000e+00,  9.8769e-01,  9.5106e-01,  8.9101e-01,  8.0902e-01,\n",
            "         7.0711e-01,  5.8778e-01,  4.5399e-01,  3.0901e-01,  1.5643e-01,\n",
            "        -1.4703e-06, -1.5644e-01, -3.0902e-01, -4.5400e-01, -5.8779e-01,\n",
            "        -7.0711e-01, -8.0902e-01, -8.9101e-01, -9.5106e-01, -9.8769e-01,\n",
            "        -1.0000e+00, -9.8769e-01, -9.5106e-01, -8.9100e-01, -8.0901e-01,\n",
            "        -7.0711e-01, -5.8778e-01, -4.5399e-01, -3.0901e-01, -1.5643e-01,\n",
            "         2.7498e-06,  1.5643e-01,  3.0902e-01,  4.5399e-01,  5.8779e-01,\n",
            "         7.0711e-01,  8.0902e-01,  8.9101e-01,  9.5106e-01,  9.8769e-01,\n",
            "         1.0000e+00,  9.8769e-01,  9.5106e-01,  8.9101e-01,  8.0902e-01,\n",
            "         7.0711e-01,  5.8778e-01,  4.5399e-01,  3.0902e-01,  1.5643e-01,\n",
            "        -4.0293e-06, -1.5644e-01, -3.0902e-01, -4.5399e-01, -5.8779e-01,\n",
            "        -7.0711e-01, -8.0902e-01, -8.9101e-01, -9.5106e-01, -9.8769e-01,\n",
            "        -1.0000e+00, -9.8769e-01, -9.5106e-01, -8.9101e-01, -8.0902e-01,\n",
            "        -7.0710e-01, -5.8778e-01, -4.5398e-01, -3.0902e-01, -1.5643e-01,\n",
            "         5.3089e-06,  1.5643e-01,  3.0902e-01,  4.5399e-01,  5.8778e-01,\n",
            "         7.0711e-01,  8.0902e-01,  8.9101e-01,  9.5106e-01,  9.8769e-01,\n",
            "         1.0000e+00,  9.8769e-01,  9.5105e-01,  8.9100e-01,  8.0902e-01,\n",
            "         7.0711e-01,  5.8779e-01,  4.5399e-01,  3.0901e-01,  1.5643e-01,\n",
            "         1.0410e-06, -1.5644e-01, -3.0902e-01, -4.5399e-01, -5.8779e-01,\n",
            "        -7.0711e-01, -8.0902e-01, -8.9101e-01, -9.5106e-01, -9.8769e-01,\n",
            "        -1.0000e+00, -9.8769e-01, -9.5106e-01, -8.9101e-01, -8.0901e-01,\n",
            "        -7.0710e-01, -5.8779e-01, -4.5399e-01, -3.0901e-01, -1.5643e-01,\n",
            "         7.8679e-06,  1.5644e-01,  3.0901e-01,  4.5399e-01,  5.8779e-01,\n",
            "         7.0711e-01,  8.0902e-01,  8.9101e-01,  9.5106e-01,  9.8769e-01,\n",
            "         1.0000e+00,  9.8769e-01,  9.5106e-01,  8.9101e-01,  8.0901e-01,\n",
            "         7.0710e-01,  5.8778e-01,  4.5399e-01,  3.0902e-01,  1.5643e-01,\n",
            "        -1.5180e-06, -1.5644e-01, -3.0902e-01, -4.5399e-01, -5.8779e-01,\n",
            "        -7.0711e-01, -8.0902e-01, -8.9101e-01, -9.5106e-01, -9.8769e-01,\n",
            "        -1.0000e+00, -9.8769e-01, -9.5106e-01, -8.9100e-01, -8.0902e-01,\n",
            "        -7.0711e-01, -5.8778e-01, -4.5399e-01, -3.0901e-01, -1.5643e-01,\n",
            "         2.7975e-06,  1.5644e-01,  3.0902e-01,  4.5400e-01,  5.8779e-01,\n",
            "         7.0710e-01,  8.0902e-01,  8.9101e-01,  9.5106e-01,  9.8769e-01,\n",
            "         1.0000e+00,  9.8769e-01,  9.5106e-01,  8.9101e-01,  8.0902e-01,\n",
            "         7.0711e-01,  5.8779e-01,  4.5399e-01,  3.0902e-01,  1.5643e-01,\n",
            "        -4.0770e-06, -1.5643e-01, -3.0902e-01, -4.5399e-01, -5.8779e-01,\n",
            "        -7.0711e-01, -8.0902e-01, -8.9101e-01, -9.5106e-01, -9.8769e-01,\n",
            "        -1.0000e+00, -9.8769e-01, -9.5106e-01, -8.9100e-01, -8.0901e-01,\n",
            "        -7.0710e-01, -5.8778e-01, -4.5398e-01, -3.0901e-01, -1.5644e-01,\n",
            "        -2.2728e-06,  1.5643e-01,  3.0902e-01,  4.5399e-01,  5.8778e-01,\n",
            "         7.0711e-01,  8.0902e-01,  8.9101e-01,  9.5106e-01,  9.8769e-01,\n",
            "         1.0000e+00,  9.8769e-01,  9.5105e-01,  8.9101e-01,  8.0902e-01,\n",
            "         7.0710e-01,  5.8778e-01,  4.5398e-01,  3.0901e-01,  1.5643e-01,\n",
            "        -6.6361e-06, -1.5644e-01, -3.0903e-01, -4.5399e-01, -5.8779e-01,\n",
            "        -7.0711e-01, -8.0901e-01, -8.9101e-01, -9.5106e-01, -9.8769e-01,\n",
            "        -1.0000e+00, -9.8769e-01, -9.5106e-01, -8.9101e-01, -8.0901e-01,\n",
            "        -7.0711e-01, -5.8779e-01, -4.5399e-01, -3.0901e-01, -1.5643e-01,\n",
            "         2.8620e-07,  1.5644e-01,  3.0902e-01,  4.5400e-01,  5.8779e-01,\n",
            "         7.0711e-01,  8.0902e-01,  8.9101e-01,  9.5106e-01,  9.8769e-01,\n",
            "         1.0000e+00,  9.8769e-01,  9.5105e-01,  8.9100e-01,  8.0902e-01,\n",
            "         7.0711e-01,  5.8778e-01,  4.5399e-01,  3.0902e-01,  1.5643e-01,\n",
            "        -1.5657e-06, -1.5644e-01, -3.0901e-01, -4.5399e-01, -5.8779e-01,\n",
            "        -7.0711e-01, -8.0902e-01, -8.9101e-01, -9.5106e-01, -9.8769e-01,\n",
            "        -1.0000e+00, -9.8769e-01, -9.5106e-01, -8.9100e-01, -8.0901e-01,\n",
            "        -7.0710e-01, -5.8778e-01, -4.5399e-01, -3.0901e-01, -1.5643e-01])\n"
          ]
        }
      ]
    },
    {
      "cell_type": "code",
      "source": [
        "train_set = sample"
      ],
      "metadata": {
        "id": "jLZPCP1fAWTj"
      },
      "execution_count": 111,
      "outputs": []
    },
    {
      "cell_type": "code",
      "source": [
        "print(sample.shape)"
      ],
      "metadata": {
        "colab": {
          "base_uri": "https://localhost:8080/"
        },
        "id": "_By2la2_Ffuy",
        "outputId": "4f79fc62-20b3-4b21-a79b-c5eb62bc7522"
      },
      "execution_count": 113,
      "outputs": [
        {
          "output_type": "stream",
          "name": "stdout",
          "text": [
            "(2, 128)\n"
          ]
        }
      ]
    },
    {
      "cell_type": "code",
      "source": [
        "\n"
      ],
      "metadata": {
        "colab": {
          "base_uri": "https://localhost:8080/"
        },
        "id": "p6IPeWw8EFBQ",
        "outputId": "3304761d-606d-44c8-bf66-b9d5f6b90a11"
      },
      "execution_count": 104,
      "outputs": [
        {
          "output_type": "execute_result",
          "data": {
            "text/plain": [
              "torch.Size([0, 1])"
            ]
          },
          "metadata": {},
          "execution_count": 104
        }
      ]
    },
    {
      "cell_type": "code",
      "source": [
        "# y = (100, 1000)\n",
        "train_input = torch.from_numpy(y[:-1,1:]) # (97, 999)\n",
        "train_target = torch.from_numpy(y[1:, 1:]) # (97, 999)"
      ],
      "metadata": {
        "colab": {
          "base_uri": "https://localhost:8080/",
          "height": 200
        },
        "id": "mHwgAL0jEect",
        "outputId": "087a6d33-a6bc-438c-a9ce-10cdde0c8266"
      },
      "execution_count": 110,
      "outputs": [
        {
          "output_type": "error",
          "ename": "IndexError",
          "evalue": "ignored",
          "traceback": [
            "\u001b[0;31m---------------------------------------------------------------------------\u001b[0m",
            "\u001b[0;31mIndexError\u001b[0m                                Traceback (most recent call last)",
            "\u001b[0;32m<ipython-input-110-3454b4d62827>\u001b[0m in \u001b[0;36m<module>\u001b[0;34m()\u001b[0m\n\u001b[1;32m      1\u001b[0m \u001b[0;31m# y = (100, 1000)\u001b[0m\u001b[0;34m\u001b[0m\u001b[0;34m\u001b[0m\u001b[0;34m\u001b[0m\u001b[0m\n\u001b[0;32m----> 2\u001b[0;31m \u001b[0mtrain_input\u001b[0m \u001b[0;34m=\u001b[0m \u001b[0mtorch\u001b[0m\u001b[0;34m.\u001b[0m\u001b[0mfrom_numpy\u001b[0m\u001b[0;34m(\u001b[0m\u001b[0my\u001b[0m\u001b[0;34m[\u001b[0m\u001b[0;34m:\u001b[0m\u001b[0;34m-\u001b[0m\u001b[0;36m1\u001b[0m\u001b[0;34m,\u001b[0m\u001b[0;36m1\u001b[0m\u001b[0;34m:\u001b[0m\u001b[0;34m]\u001b[0m\u001b[0;34m)\u001b[0m \u001b[0;31m# (97, 999)\u001b[0m\u001b[0;34m\u001b[0m\u001b[0;34m\u001b[0m\u001b[0m\n\u001b[0m\u001b[1;32m      3\u001b[0m \u001b[0mtrain_target\u001b[0m \u001b[0;34m=\u001b[0m \u001b[0mtorch\u001b[0m\u001b[0;34m.\u001b[0m\u001b[0mfrom_numpy\u001b[0m\u001b[0;34m(\u001b[0m\u001b[0my\u001b[0m\u001b[0;34m[\u001b[0m\u001b[0;36m1\u001b[0m\u001b[0;34m:\u001b[0m\u001b[0;34m,\u001b[0m \u001b[0;36m1\u001b[0m\u001b[0;34m:\u001b[0m\u001b[0;34m]\u001b[0m\u001b[0;34m)\u001b[0m \u001b[0;31m# (97, 999)\u001b[0m\u001b[0;34m\u001b[0m\u001b[0;34m\u001b[0m\u001b[0m\n",
            "\u001b[0;31mIndexError\u001b[0m: too many indices for tensor of dimension 1"
          ]
        }
      ]
    },
    {
      "cell_type": "code",
      "source": [
        "epochs = 10\n",
        "future = 40\n",
        "for i in range(epochs):\n",
        "  for seq, y_train in train_data:\n",
        "    optimizer.zero_grad()\n",
        "    model.hidden = (torch.zeros(1,1,model.hidden_size) ,\n",
        "                    torch.zeros(1,1,model.hidden_size))\n",
        "    \n",
        "    y_pred = model(seq)\n",
        "    loss = criterion(y_pred, y_train)\n",
        "    loss.backward()\n",
        "    optimizer.step()\n",
        " \n",
        "  # print(f\"Epoch {i} Loss {loss.item()} \")\n",
        "  preds = train_set[-window_size:].tolist()\n",
        " \n",
        "  for f in range(future):\n",
        "    seq = torch.FloatTensor(preds[-window_size:])\n",
        "    with torch.no_grad():\n",
        "      model.hidden = (torch.zeros(1,1,model.hidden_size) ,\n",
        "                      torch.zeros(1,1,model.hidden_size))\n",
        "      preds.append(model(seq).item())\n",
        " \n",
        "  loss = criterion(torch.tensor(preds[-window_size :]), y[760:] )\n",
        "  print(f'Performance on test range: {loss}')"
      ],
      "metadata": {
        "colab": {
          "base_uri": "https://localhost:8080/",
          "height": 356
        },
        "id": "1FSIjCI17yo8",
        "outputId": "7c9fd2fd-3651-4ee8-be7e-ea08608452c0"
      },
      "execution_count": 102,
      "outputs": [
        {
          "output_type": "error",
          "ename": "AttributeError",
          "evalue": "ignored",
          "traceback": [
            "\u001b[0;31m---------------------------------------------------------------------------\u001b[0m",
            "\u001b[0;31mAttributeError\u001b[0m                            Traceback (most recent call last)",
            "\u001b[0;32m<ipython-input-102-51c9d29d4b57>\u001b[0m in \u001b[0;36m<module>\u001b[0;34m()\u001b[0m\n\u001b[1;32m     18\u001b[0m     \u001b[0mseq\u001b[0m \u001b[0;34m=\u001b[0m \u001b[0mtorch\u001b[0m\u001b[0;34m.\u001b[0m\u001b[0mFloatTensor\u001b[0m\u001b[0;34m(\u001b[0m\u001b[0mpreds\u001b[0m\u001b[0;34m[\u001b[0m\u001b[0;34m-\u001b[0m\u001b[0mwindow_size\u001b[0m\u001b[0;34m:\u001b[0m\u001b[0;34m]\u001b[0m\u001b[0;34m)\u001b[0m\u001b[0;34m\u001b[0m\u001b[0;34m\u001b[0m\u001b[0m\n\u001b[1;32m     19\u001b[0m     \u001b[0;32mwith\u001b[0m \u001b[0mtorch\u001b[0m\u001b[0;34m.\u001b[0m\u001b[0mno_grad\u001b[0m\u001b[0;34m(\u001b[0m\u001b[0;34m)\u001b[0m\u001b[0;34m:\u001b[0m\u001b[0;34m\u001b[0m\u001b[0;34m\u001b[0m\u001b[0m\n\u001b[0;32m---> 20\u001b[0;31m       model.hidden = (torch.zeros(1,1,model.hidden_size) ,\n\u001b[0m\u001b[1;32m     21\u001b[0m                       torch.zeros(1,1,model.hidden_size))\n\u001b[1;32m     22\u001b[0m       \u001b[0mpreds\u001b[0m\u001b[0;34m.\u001b[0m\u001b[0mappend\u001b[0m\u001b[0;34m(\u001b[0m\u001b[0mmodel\u001b[0m\u001b[0;34m(\u001b[0m\u001b[0mseq\u001b[0m\u001b[0;34m)\u001b[0m\u001b[0;34m.\u001b[0m\u001b[0mitem\u001b[0m\u001b[0;34m(\u001b[0m\u001b[0;34m)\u001b[0m\u001b[0;34m)\u001b[0m\u001b[0;34m\u001b[0m\u001b[0;34m\u001b[0m\u001b[0m\n",
            "\u001b[0;32m/usr/local/lib/python3.7/dist-packages/torch/nn/modules/module.py\u001b[0m in \u001b[0;36m__getattr__\u001b[0;34m(self, name)\u001b[0m\n\u001b[1;32m   1184\u001b[0m                 \u001b[0;32mreturn\u001b[0m \u001b[0mmodules\u001b[0m\u001b[0;34m[\u001b[0m\u001b[0mname\u001b[0m\u001b[0;34m]\u001b[0m\u001b[0;34m\u001b[0m\u001b[0;34m\u001b[0m\u001b[0m\n\u001b[1;32m   1185\u001b[0m         raise AttributeError(\"'{}' object has no attribute '{}'\".format(\n\u001b[0;32m-> 1186\u001b[0;31m             type(self).__name__, name))\n\u001b[0m\u001b[1;32m   1187\u001b[0m \u001b[0;34m\u001b[0m\u001b[0m\n\u001b[1;32m   1188\u001b[0m     \u001b[0;32mdef\u001b[0m \u001b[0m__setattr__\u001b[0m\u001b[0;34m(\u001b[0m\u001b[0mself\u001b[0m\u001b[0;34m,\u001b[0m \u001b[0mname\u001b[0m\u001b[0;34m:\u001b[0m \u001b[0mstr\u001b[0m\u001b[0;34m,\u001b[0m \u001b[0mvalue\u001b[0m\u001b[0;34m:\u001b[0m \u001b[0mUnion\u001b[0m\u001b[0;34m[\u001b[0m\u001b[0mTensor\u001b[0m\u001b[0;34m,\u001b[0m \u001b[0;34m'Module'\u001b[0m\u001b[0;34m]\u001b[0m\u001b[0;34m)\u001b[0m \u001b[0;34m->\u001b[0m \u001b[0;32mNone\u001b[0m\u001b[0;34m:\u001b[0m\u001b[0;34m\u001b[0m\u001b[0;34m\u001b[0m\u001b[0m\n",
            "\u001b[0;31mAttributeError\u001b[0m: 'LSTM' object has no attribute 'hidden_size'"
          ]
        }
      ]
    }
  ],
  "metadata": {
    "accelerator": "GPU",
    "colab": {
      "collapsed_sections": [],
      "name": "flower module2_solutions with attack-PGP-FGSM-CNN.ipynb",
      "provenance": [],
      "include_colab_link": true
    },
    "kernelspec": {
      "display_name": "Python 3",
      "language": "python",
      "name": "python3"
    },
    "language_info": {
      "codemirror_mode": {
        "name": "ipython",
        "version": 3
      },
      "file_extension": ".py",
      "mimetype": "text/x-python",
      "name": "python",
      "nbconvert_exporter": "python",
      "pygments_lexer": "ipython3",
      "version": "3.7.4"
    }
  },
  "nbformat": 4,
  "nbformat_minor": 0
}