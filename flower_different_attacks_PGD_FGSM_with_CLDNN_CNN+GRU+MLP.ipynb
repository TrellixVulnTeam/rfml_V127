{
  "cells": [
    {
      "cell_type": "markdown",
      "metadata": {
        "id": "view-in-github",
        "colab_type": "text"
      },
      "source": [
        "<a href=\"https://colab.research.google.com/github/ongtiongheng/rfml/blob/master/flower_different_attacks_PGD_FGSM_with_CLDNN_CNN%2BGRU%2BMLP.ipynb\" target=\"_parent\"><img src=\"https://colab.research.google.com/assets/colab-badge.svg\" alt=\"Open In Colab\"/></a>"
      ]
    },
    {
      "cell_type": "markdown",
      "source": [
        "## Upload dataset to Google drive i.e. RML2016a\n",
        "\n"
      ],
      "metadata": {
        "id": "C4NJV9iqDhkL"
      }
    },
    {
      "cell_type": "code",
      "source": [
        "from google.colab import drive\n",
        "drive.mount('/content/drive')"
      ],
      "metadata": {
        "colab": {
          "base_uri": "https://localhost:8080/"
        },
        "id": "Kgc2EvS70-Qx",
        "outputId": "2449b6d6-9ba7-497e-b072-06caa59de281"
      },
      "execution_count": 1,
      "outputs": [
        {
          "output_type": "stream",
          "name": "stdout",
          "text": [
            "Mounted at /content/drive\n"
          ]
        }
      ]
    },
    {
      "cell_type": "code",
      "source": [
        "# Install the library code\n",
        "!pip install --upgrade git+https://github.com/brysef/rfml.git\n",
        "#extract to tmp folder only when not found\n",
        "#![ ! -f \"/tmp/RML2016.10a_dict.pkl\" ] && tar -xf /content/drive/MyDrive/RML2016.10a.tar.bz2 -C /tmp\n",
        "#check /tmp/ folder for dataset\n",
        "#!ls -lah /tmp/RML*"
      ],
      "metadata": {
        "colab": {
          "base_uri": "https://localhost:8080/"
        },
        "id": "syQY8Q_1u3Tp",
        "outputId": "bd0bcd7d-ce00-47ff-d653-3ea27c7b39c2"
      },
      "execution_count": 2,
      "outputs": [
        {
          "output_type": "stream",
          "name": "stdout",
          "text": [
            "Looking in indexes: https://pypi.org/simple, https://us-python.pkg.dev/colab-wheels/public/simple/\n",
            "Collecting git+https://github.com/brysef/rfml.git\n",
            "  Cloning https://github.com/brysef/rfml.git to /tmp/pip-req-build-7xvh4jex\n",
            "  Running command git clone -q https://github.com/brysef/rfml.git /tmp/pip-req-build-7xvh4jex\n",
            "Requirement already satisfied: numpy>=0.7.0 in /usr/local/lib/python3.7/dist-packages (from rfml==1.0.0) (1.21.6)\n",
            "Requirement already satisfied: PyYAML>=3.11 in /usr/local/lib/python3.7/dist-packages (from rfml==1.0.0) (3.13)\n",
            "Requirement already satisfied: pandas>=0.24.1 in /usr/local/lib/python3.7/dist-packages (from rfml==1.0.0) (1.3.5)\n",
            "Collecting setGPU>=0.0.7\n",
            "  Downloading setGPU-0.0.7.tar.gz (1.1 kB)\n",
            "Requirement already satisfied: torch>=1.0.0 in /usr/local/lib/python3.7/dist-packages (from rfml==1.0.0) (1.11.0+cu113)\n",
            "Requirement already satisfied: python-dateutil>=2.7.3 in /usr/local/lib/python3.7/dist-packages (from pandas>=0.24.1->rfml==1.0.0) (2.8.2)\n",
            "Requirement already satisfied: pytz>=2017.3 in /usr/local/lib/python3.7/dist-packages (from pandas>=0.24.1->rfml==1.0.0) (2022.1)\n",
            "Requirement already satisfied: six>=1.5 in /usr/local/lib/python3.7/dist-packages (from python-dateutil>=2.7.3->pandas>=0.24.1->rfml==1.0.0) (1.15.0)\n",
            "Collecting gpustat\n",
            "  Downloading gpustat-0.6.0.tar.gz (78 kB)\n",
            "\u001b[K     |████████████████████████████████| 78 kB 6.0 MB/s \n",
            "\u001b[?25hRequirement already satisfied: typing-extensions in /usr/local/lib/python3.7/dist-packages (from torch>=1.0.0->rfml==1.0.0) (4.2.0)\n",
            "Requirement already satisfied: nvidia-ml-py3>=7.352.0 in /usr/local/lib/python3.7/dist-packages (from gpustat->setGPU>=0.0.7->rfml==1.0.0) (7.352.0)\n",
            "Requirement already satisfied: psutil in /usr/local/lib/python3.7/dist-packages (from gpustat->setGPU>=0.0.7->rfml==1.0.0) (5.4.8)\n",
            "Collecting blessings>=1.6\n",
            "  Downloading blessings-1.7-py3-none-any.whl (18 kB)\n",
            "Building wheels for collected packages: rfml, setGPU, gpustat\n",
            "  Building wheel for rfml (setup.py) ... \u001b[?25l\u001b[?25hdone\n",
            "  Created wheel for rfml: filename=rfml-1.0.0-py3-none-any.whl size=64748 sha256=890c95409bdc95f570f1c192058ea1d433f55d9326a51712118becaf7619aeb8\n",
            "  Stored in directory: /tmp/pip-ephem-wheel-cache-2ujwzyak/wheels/1f/1a/1d/7af035c2b3cd45803974c4a94065112b5b8ad77b91a31fe8c6\n",
            "  Building wheel for setGPU (setup.py) ... \u001b[?25l\u001b[?25hdone\n",
            "  Created wheel for setGPU: filename=setGPU-0.0.7-py3-none-any.whl size=1532 sha256=a5887193680fc743c41adca3a663fdfd7c189291f6c7812f7f22f07eed8cd3c9\n",
            "  Stored in directory: /root/.cache/pip/wheels/87/3e/9e/b02c69a756b62bb49415b12a346ee7fa0930b76e35f0912205\n",
            "  Building wheel for gpustat (setup.py) ... \u001b[?25l\u001b[?25hdone\n",
            "  Created wheel for gpustat: filename=gpustat-0.6.0-py3-none-any.whl size=12617 sha256=68af56339e25ea5ae85395192d8a57f49a9e0d8dd77eb2408eddebb514331e05\n",
            "  Stored in directory: /root/.cache/pip/wheels/e6/67/af/f1ad15974b8fd95f59a63dbf854483ebe5c7a46a93930798b8\n",
            "Successfully built rfml setGPU gpustat\n",
            "Installing collected packages: blessings, gpustat, setGPU, rfml\n",
            "Successfully installed blessings-1.7 gpustat-0.6.0 rfml-1.0.0 setGPU-0.0.7\n"
          ]
        }
      ]
    },
    {
      "cell_type": "markdown",
      "metadata": {
        "id": "hXIJ7Mvizsm-"
      },
      "source": [
        "## Train/Evaluate a CLDNN - CNN, GRU, MLP for AMC\n",
        "\n",
        "This notebook demonstrates how to create a neural network and a trainer in PyTorch to learn a signal classification task.  The reference dataset used is the RML2016.10A dataset for Automatic Modulation Classification\n",
        "\n",
        "### Assumptions\n",
        "- The dataset wrangling has already been completed (and is provided here)\n",
        "- The classifier evaluation code (and the plotting) has already been completed\n",
        "\n",
        "### Components Recreated in Tutorial\n",
        "- Deep Neural Network Model defined in PyTorch\n",
        "- Training Loop that trains for *n* epochs\n",
        "\n",
        "### See Also\n",
        "The code in this tutorial is a stripped down version of the code in ``rfml.nn.model.GRU`` and ``rfml.nn.train.StandardTrainingStrategy`` that simplifies discussion.  Further detail can be provided by directly browsing the source files for those classes."
      ]
    },
    {
      "cell_type": "markdown",
      "metadata": {
        "id": "fWuzJnD5zsm_"
      },
      "source": [
        "## Install the library code and dependencies"
      ]
    },
    {
      "cell_type": "code",
      "execution_count": 3,
      "metadata": {
        "id": "xZXJtKgLzsnE"
      },
      "outputs": [],
      "source": [
        "# Plotting Includes\n",
        "import matplotlib.pyplot as plt\n",
        "import seaborn as sns\n",
        "sns.set_style(\"whitegrid\")\n",
        "\n",
        "# External Includes\n",
        "import numpy as np\n",
        "from pprint import pprint\n",
        "\n",
        "import torch\n",
        "from torch.nn.functional import cross_entropy\n",
        "from torch.autograd import Variable\n",
        "import torch.nn as nn\n",
        "from torch.optim import Adam\n",
        "from torch.utils.data import DataLoader, TensorDataset\n",
        "\n",
        "# Internal Includes\n",
        "from rfml.data import Dataset, Encoder\n",
        "from rfml.data.converters import load_RML201610A_dataset\n",
        "\n",
        "from rfml.nbutils import plot_acc_vs_snr, plot_confusion, plot_convergence, plot_IQ\n",
        "\n",
        "from rfml.nn.eval import compute_accuracy, compute_accuracy_on_cross_sections, compute_confusion\n",
        "from rfml.nn.model import Model\n",
        "#CLDNN\n",
        "from rfml.nn.layers import Flatten, PowerNormalization\n",
        "\n",
        "#Attack Includes\n",
        "from rfml.attack import fgsm, pgd\n",
        "from rfml.nn.eval import compute_accuracy\n",
        "from rfml.nn.eval.confusion import _confusion_matrix\n",
        "from rfml.nn.F import energy\n",
        "from rfml.data import build_dataset\n",
        "from rfml.nn.model import build_model\n",
        "from rfml.nn.train import build_trainer, PrintingTrainingListener\n",
        "from rfml.nbutils import plot_acc_vs_spr, plot_confusion\n",
        "\n",
        "from torch.utils.data import DataLoader"
      ]
    },
    {
      "cell_type": "markdown",
      "metadata": {
        "id": "yn08CS2vzsnG"
      },
      "source": [
        "## Configuration"
      ]
    },
    {
      "cell_type": "code",
      "execution_count": 4,
      "metadata": {
        "id": "vv27phvSzsnH"
      },
      "outputs": [],
      "source": [
        "gpu = True       # Set to True to use a GPU for training\n",
        "fig_dir = None   # Set to a file path if you'd like to save the plots generated\n",
        "data_path = \"/content/drive/MyDrive/RML2016.10a_dict.pkl\" # Set to a file path if you've downloaded RML2016.10A locally"
      ]
    },
    {
      "cell_type": "markdown",
      "metadata": {
        "id": "AgsYbed4zsnJ"
      },
      "source": [
        "## Loading a Dataset\n",
        "\n",
        "The dataset used is downloaded from DeepSig Inc. and provided under a Creative Commons lic"
      ]
    },
    {
      "cell_type": "code",
      "execution_count": 5,
      "metadata": {
        "id": "pYEitUXfzsnJ",
        "colab": {
          "base_uri": "https://localhost:8080/"
        },
        "outputId": "78c99dfc-a938-4cb7-94a1-e6f130e7091b"
      },
      "outputs": [
        {
          "output_type": "stream",
          "name": "stdout",
          "text": [
            "220000\n",
            "{'8PSK': 20000,\n",
            " 'AM-DSB': 20000,\n",
            " 'AM-SSB': 20000,\n",
            " 'BPSK': 20000,\n",
            " 'CPFSK': 20000,\n",
            " 'GFSK': 20000,\n",
            " 'PAM4': 20000,\n",
            " 'QAM16': 20000,\n",
            " 'QAM64': 20000,\n",
            " 'QPSK': 20000,\n",
            " 'WBFM': 20000}\n"
          ]
        }
      ],
      "source": [
        "dataset = load_RML201610A_dataset(path=data_path)\n",
        "print(len(dataset))\n",
        "pprint(dataset.get_examples_per_class())"
      ]
    },
    {
      "cell_type": "code",
      "execution_count": 6,
      "metadata": {
        "id": "ZNvKWievzsnO",
        "colab": {
          "base_uri": "https://localhost:8080/"
        },
        "outputId": "0ebb6204-69bc-4682-80e7-d6df538dcd72"
      },
      "outputs": [
        {
          "output_type": "stream",
          "name": "stdout",
          "text": [
            "Training Examples\n",
            "=================\n",
            "{'8PSK': 380,\n",
            " 'AM-DSB': 380,\n",
            " 'AM-SSB': 380,\n",
            " 'BPSK': 380,\n",
            " 'CPFSK': 380,\n",
            " 'GFSK': 380,\n",
            " 'PAM4': 380,\n",
            " 'QAM16': 380,\n",
            " 'QAM64': 380,\n",
            " 'QPSK': 380,\n",
            " 'WBFM': 380}\n",
            "=================\n",
            "\n",
            "Validation Examples\n",
            "=================\n",
            "{'8PSK': 1600,\n",
            " 'AM-DSB': 1600,\n",
            " 'AM-SSB': 1600,\n",
            " 'BPSK': 1600,\n",
            " 'CPFSK': 1600,\n",
            " 'GFSK': 1600,\n",
            " 'PAM4': 1600,\n",
            " 'QAM16': 1600,\n",
            " 'QAM64': 1600,\n",
            " 'QPSK': 1600,\n",
            " 'WBFM': 1600}\n",
            "=================\n",
            "\n",
            "Testing Examples\n",
            "=================\n",
            "{'8PSK': 18020,\n",
            " 'AM-DSB': 18020,\n",
            " 'AM-SSB': 18020,\n",
            " 'BPSK': 18020,\n",
            " 'CPFSK': 18020,\n",
            " 'GFSK': 18020,\n",
            " 'PAM4': 18020,\n",
            " 'QAM16': 18020,\n",
            " 'QAM64': 18020,\n",
            " 'QPSK': 18020,\n",
            " 'WBFM': 18020}\n",
            "=================\n"
          ]
        }
      ],
      "source": [
        "train, test = dataset.split(frac=0.9, on=[\"Modulation\", \"SNR\"])\n",
        "train, val = train.split(frac=0.8, on=[\"Modulation\", \"SNR\"])\n",
        "\n",
        "print(\"Training Examples\")\n",
        "print(\"=================\")\n",
        "pprint(train.get_examples_per_class())\n",
        "print(\"=================\")\n",
        "print()\n",
        "print(\"Validation Examples\")\n",
        "print(\"=================\")\n",
        "pprint(val.get_examples_per_class())\n",
        "print(\"=================\")\n",
        "print()\n",
        "print(\"Testing Examples\")\n",
        "print(\"=================\")\n",
        "pprint(test.get_examples_per_class())\n",
        "print(\"=================\")"
      ]
    },
    {
      "cell_type": "code",
      "execution_count": 7,
      "metadata": {
        "id": "xPb0PiN9zsnR",
        "colab": {
          "base_uri": "https://localhost:8080/"
        },
        "outputId": "587b6fd6-5431-4254-a58f-3142551dd673"
      },
      "outputs": [
        {
          "output_type": "stream",
          "name": "stdout",
          "text": [
            "WBFM: 0\n",
            "AM-DSB: 1\n",
            "AM-SSB: 2\n",
            "CPFSK: 3\n",
            "GFSK: 4\n",
            "BPSK: 5\n",
            "QPSK: 6\n",
            "8PSK: 7\n",
            "PAM4: 8\n",
            "QAM16: 9\n",
            "QAM64: 10\n",
            "\n"
          ]
        }
      ],
      "source": [
        "le = Encoder([\"WBFM\",\n",
        "              \"AM-DSB\",\n",
        "              \"AM-SSB\",\n",
        "              \"CPFSK\",\n",
        "              \"GFSK\",\n",
        "              \"BPSK\",\n",
        "              \"QPSK\",\n",
        "              \"8PSK\",\n",
        "              \"PAM4\",\n",
        "              \"QAM16\",\n",
        "              \"QAM64\"],\n",
        "             label_name=\"Modulation\")\n",
        "print(le)"
      ]
    },
    {
      "cell_type": "code",
      "execution_count": 8,
      "metadata": {
        "id": "Xd0zIGl7zsnT",
        "colab": {
          "base_uri": "https://localhost:8080/",
          "height": 350
        },
        "outputId": "56d9385f-5de7-40c6-9c6d-193a9897bab0"
      },
      "outputs": [
        {
          "output_type": "display_data",
          "data": {
            "text/plain": [
              "<Figure size 720x360 with 1 Axes>"
            ],
            "image/png": "[encoded data removed]"
          },
          "metadata": {}
        }
      ],
      "source": [
        "# Plot a sample of the data\n",
        "# You can choose a different sample by changing\n",
        "idx = 5\n",
        "snr = 18.0\n",
        "modulation = \"8PSK\"\n",
        "\n",
        "mask = (dataset.df[\"SNR\"] == snr) & (dataset.df[\"Modulation\"] == modulation)\n",
        "sample = dataset.as_numpy(mask=mask, le=le)[0][idx,0,:]\n",
        "t = np.arange(sample.shape[1])\n",
        "\n",
        "title = \"{modulation} Sample at {snr:.0f} dB SNR\".format(modulation=modulation, snr=snr)\n",
        "fig = plot_IQ(iq=sample, title=title)\n",
        "if fig_dir is not None:\n",
        "    file_path = \"{fig_dir}/{modulation}_{snr:.0f}dB_sample.pdf\".format(fig_dir=fig_dir,\n",
        "                                                                       modulation=modulation,\n",
        "                                                                       snr=snr)\n",
        "    print(\"Saving Figure -> {file_path}\".format(file_path=file_path))\n",
        "    fig.savefig(file_path, format=\"pdf\", transparent=True)\n",
        "plt.show()"
      ]
    },
    {
      "cell_type": "markdown",
      "metadata": {
        "id": "WPWtP6dJzsnV"
      },
      "source": [
        "## Convolutional Long Deep Neural Network (CNN + GRU + MLP)\n",
        "\n",
        "This network is based off of a network for modulation classification first\n",
        "introduced in West/O'Shea.\n",
        "The following modifications/interpretations were made by Bryse Flowers:\n",
        "\n",
        "    - Batch Normalization was added otherwise the model was not stable enough to train\n",
        "      in many cases (its unclear whether this was included in West's model)\n",
        "    - The filter sizes were changed to 7 and the padding was set to 3 (where as\n",
        "      West's paper said they used size 8 filters and did not mention padding)\n",
        "        - An odd sized filter is necessary to ensure that the intermediate\n",
        "          signal/feature map lengths are the same size and thus can be concatenated\n",
        "          back together\n",
        "    - A Gated Recurrent Unit (GRU) was used in place of a Long-Short Term Memory (LSTM).\n",
        "        - These two submodules should behave nearly identically but GRU has one fewer\n",
        "          equation\n",
        "    - Bias was not used in the first convolution in order to more closely mimic the\n",
        "      implementation of the CNN.\n",
        "    - The hidden size of the GRU was set to be the number of classes it is trying to\n",
        "      predict -- it makes the most sense instead of trying to find an arbritrary best\n",
        "      hidden size.\n",
        "    References\n",
        "        N. E. West and T. O’Shea, “Deep architectures for modulation recognition,” in\n",
        "        IEEE International Symposium on Dynamic Spectrum Access Networks (DySPAN), pp.\n",
        "        1–6, IEEE, 2017."
      ]
    },
    {
      "cell_type": "code",
      "execution_count": 9,
      "metadata": {
        "id": "QHzcQJGyzsnY"
      },
      "outputs": [],
      "source": [
        "class MyCLDNN(Model):\n",
        "    \"\"\"Convolutional Long Deep Neural Network (CNN + GRU + MLP)\n",
        "    This network is based off of a network for modulation classification first\n",
        "    introduced in West/O'Shea.\n",
        "    The following modifications/interpretations were made by Bryse Flowers:\n",
        "    - Batch Normalization was added otherwise the model was not stable enough to train\n",
        "      in many cases (its unclear whether this was included in West's model)\n",
        "    - The filter sizes were changed to 7 and the padding was set to 3 (where as\n",
        "      West's paper said they used size 8 filters and did not mention padding)\n",
        "        - An odd sized filter is necessary to ensure that the intermediate\n",
        "          signal/feature map lengths are the same size and thus can be concatenated\n",
        "          back together\n",
        "    - A Gated Recurrent Unit (GRU) was used in place of a Long-Short Term Memory (LSTM).\n",
        "        - These two submodules should behave nearly identically but GRU has one fewer\n",
        "          equation\n",
        "    - Bias was not used in the first convolution in order to more closely mimic the\n",
        "      implementation of the CNN.\n",
        "    - The hidden size of the GRU was set to be the number of classes it is trying to\n",
        "      predict -- it makes the most sense instead of trying to find an arbritrary best\n",
        "      hidden size.\n",
        "    References\n",
        "        N. E. West and T. O’Shea, “Deep architectures for modulation recognition,” in\n",
        "        IEEE International Symposium on Dynamic Spectrum Access Networks (DySPAN), pp.\n",
        "        1–6, IEEE, 2017.\n",
        "    \"\"\"\n",
        "\n",
        "    def __init__(self, input_samples: int, n_classes: int):\n",
        "        super().__init__(input_samples, n_classes)\n",
        "\n",
        "        # Batch x 1-channel x IQ x input_samples\n",
        "        self.conv1 = nn.Conv2d(\n",
        "            in_channels=1,\n",
        "            out_channels=50,\n",
        "            kernel_size=(1, 7),\n",
        "            padding=(0, 3),\n",
        "            bias=False,\n",
        "        )\n",
        "        self.a1 = nn.ReLU()\n",
        "        self.bn1 = nn.BatchNorm2d(50)\n",
        "\n",
        "        self.conv2 = nn.Conv2d(\n",
        "            in_channels=50,\n",
        "            out_channels=50,\n",
        "            kernel_size=(1, 7),\n",
        "            padding=(0, 3),\n",
        "            bias=True,\n",
        "        )\n",
        "        self.a2 = nn.ReLU()\n",
        "        self.bn2 = nn.BatchNorm2d(50)\n",
        "\n",
        "        self.conv3 = nn.Conv2d(\n",
        "            in_channels=50,\n",
        "            out_channels=50,\n",
        "            kernel_size=(1, 7),\n",
        "            padding=(0, 3),\n",
        "            bias=True,\n",
        "        )\n",
        "        self.a3 = nn.ReLU()\n",
        "        self.bn3 = nn.BatchNorm2d(50)\n",
        "\n",
        "        # Flatten along channels and I/Q\n",
        "        self.flatten_preserve_time = Flatten(preserve_time=True)\n",
        "\n",
        "        self.GRU_n_layers = 1\n",
        "        self.GRU_n_directions = 1\n",
        "        self.GRU_hidden_size = n_classes\n",
        "        self.gru = nn.GRU(\n",
        "            input_size=100 * 2,  # 100 channels after concatenation (50+50) * IQ (2)\n",
        "            hidden_size=self.GRU_hidden_size,\n",
        "            batch_first=True,\n",
        "            num_layers=self.GRU_n_layers,\n",
        "            bidirectional=False,\n",
        "        )\n",
        "\n",
        "        # Flatten everything outside of batch dimension\n",
        "        self.flatten = Flatten()\n",
        "\n",
        "        # Fully connected layers\n",
        "        # All of the outputs of the GRU are taken (instead of just the final hidden\n",
        "        # output after all of the time samples).  Therefore, the number of \"features\"\n",
        "        # after flattening is the time length * the hidden size * number of directions\n",
        "        self.dense1 = nn.Linear(\n",
        "            input_samples * self.GRU_hidden_size * self.GRU_n_directions, 256\n",
        "        )\n",
        "        self.a4 = nn.ReLU()\n",
        "        self.bn4 = nn.BatchNorm1d(256)\n",
        "\n",
        "        self.dense2 = nn.Linear(256, n_classes)\n",
        "\n",
        "    def forward(self, x):\n",
        "        channel_dim = 1\n",
        "        batch_size = x.shape[0]\n",
        "\n",
        "        # Up front \"filter\" with no bias\n",
        "        x = self.conv1(x)\n",
        "        x = self.a1(x)\n",
        "        a = self.bn1(x)  # Output is concatenated back as a \"skip connection\" below\n",
        "\n",
        "        # Convolutional feature extraction layers\n",
        "        x = self.conv2(a)\n",
        "        x = self.a2(x)\n",
        "        x = self.bn2(x)\n",
        "        x = self.conv3(x)\n",
        "        x = self.a3(x)\n",
        "        x = self.bn3(x)\n",
        "\n",
        "        # Concatenate the \"skip connection\" with the output of the rest of the CNN\n",
        "        # pylint: disable=no-member\n",
        "        x = torch.cat((a, x), dim=channel_dim)\n",
        "\n",
        "        # Temporal feature extraction\n",
        "        x = self.flatten_preserve_time(x)  # BxTxF\n",
        "        hidden = x.new(\n",
        "            self.GRU_n_layers * self.GRU_n_directions, batch_size, self.GRU_hidden_size\n",
        "        )\n",
        "        hidden.zero_()\n",
        "        x, _ = self.gru(x, hidden)\n",
        "\n",
        "        # MLP Classification stage\n",
        "        x = self.flatten(x)\n",
        "        x = self.dense1(x)\n",
        "        x = self.a4(x)\n",
        "        x = self.bn4(x)\n",
        "\n",
        "        x = self.dense2(x)\n",
        "\n",
        "        return x"
      ]
    },
    {
      "cell_type": "code",
      "execution_count": 10,
      "metadata": {
        "id": "5XcGfWWEzsnZ",
        "colab": {
          "base_uri": "https://localhost:8080/"
        },
        "outputId": "1ea3bd56-e6d5-413b-bacf-47a696a6c388"
      },
      "outputs": [
        {
          "output_type": "stream",
          "name": "stdout",
          "text": [
            "MyCLDNN(\n",
            "  (conv1): Conv2d(1, 50, kernel_size=(1, 7), stride=(1, 1), padding=(0, 3), bias=False)\n",
            "  (a1): ReLU()\n",
            "  (bn1): BatchNorm2d(50, eps=1e-05, momentum=0.1, affine=True, track_running_stats=True)\n",
            "  (conv2): Conv2d(50, 50, kernel_size=(1, 7), stride=(1, 1), padding=(0, 3))\n",
            "  (a2): ReLU()\n",
            "  (bn2): BatchNorm2d(50, eps=1e-05, momentum=0.1, affine=True, track_running_stats=True)\n",
            "  (conv3): Conv2d(50, 50, kernel_size=(1, 7), stride=(1, 1), padding=(0, 3))\n",
            "  (a3): ReLU()\n",
            "  (bn3): BatchNorm2d(50, eps=1e-05, momentum=0.1, affine=True, track_running_stats=True)\n",
            "  (flatten_preserve_time): Flatten()\n",
            "  (gru): GRU(200, 11, batch_first=True)\n",
            "  (flatten): Flatten()\n",
            "  (dense1): Linear(in_features=1408, out_features=256, bias=True)\n",
            "  (a4): ReLU()\n",
            "  (bn4): BatchNorm1d(256, eps=1e-05, momentum=0.1, affine=True, track_running_stats=True)\n",
            "  (dense2): Linear(in_features=256, out_features=11, bias=True)\n",
            ")\n",
            "----------------------\n",
            "Trainable Parameters: 406822\n",
            "Fixed Parameters: 0\n",
            "Total Parameters: 406822\n",
            "----------------------\n",
            "\n"
          ]
        }
      ],
      "source": [
        "model = MyCLDNN(input_samples=128, n_classes=11)\n",
        "print(model)"
      ]
    },
    {
      "cell_type": "markdown",
      "metadata": {
        "id": "cdWw1puezsnb"
      },
      "source": [
        "## Implementing a Training Loop"
      ]
    },
    {
      "cell_type": "code",
      "execution_count": 11,
      "metadata": {
        "id": "I39flOAMzsnb"
      },
      "outputs": [],
      "source": [
        "class MyTrainingStrategy(object):\n",
        "\n",
        "    def __init__(self, lr: float = 10e-4, n_epochs: int = 4, gpu: bool = True):\n",
        "        self.lr = lr\n",
        "        self.n_epochs = n_epochs\n",
        "        self.gpu = gpu\n",
        "\n",
        "    def __repr__(self):\n",
        "        ret = self.__class__.__name__\n",
        "        ret += \"(lr={}, n_epochs={}, gpu={})\".format(self.lr, self.n_epochs, self.gpu)\n",
        "        return ret\n",
        "        \n",
        "    def __call__(\n",
        "        self, model: nn.Module, training: Dataset, validation: Dataset, le: Encoder\n",
        "    ):\n",
        "        criterion = nn.CrossEntropyLoss()\n",
        "\n",
        "        if self.gpu:\n",
        "            model.cuda()\n",
        "            model.train()\n",
        "            criterion.cuda()\n",
        "\n",
        "        optimizer = Adam(model.parameters(), lr=self.lr)\n",
        "\n",
        "        train_data = DataLoader(\n",
        "            training.as_torch(le=le), shuffle=True, batch_size=512\n",
        "        )\n",
        "        val_data = DataLoader(\n",
        "            validation.as_torch(le=le), shuffle=True, batch_size=512\n",
        "        )\n",
        "\n",
        "        # Save two lists for plotting a convergence graph at the end\n",
        "        ret_train_loss = list()\n",
        "        ret_val_loss = list()\n",
        "        \n",
        "        for epoch in range(self.n_epochs):\n",
        "            train_loss = self._train_one_epoch(\n",
        "                model=model, data=train_data, loss_fn=criterion, optimizer=optimizer\n",
        "            )\n",
        "            print(\"On Epoch {} the training loss was {}\".format(epoch, train_loss))\n",
        "            ret_train_loss.append(train_loss)\n",
        "\n",
        "            val_loss = self._validate_once(\n",
        "                model=model, data=val_data, loss_fn=criterion\n",
        "            )\n",
        "            print(\"---- validation loss was {}\".format(val_loss))\n",
        "            ret_val_loss.append(val_loss)\n",
        "\n",
        "        return ret_train_loss, ret_val_loss\n",
        "\n",
        "    def _train_one_epoch(\n",
        "        self, model: nn.Module, data: DataLoader, loss_fn: nn.CrossEntropyLoss, optimizer: Adam\n",
        "    ) -> float:\n",
        "        total_loss = 0.0\n",
        "        # Switch the model mode so it remembers gradients, induces dropout, etc.\n",
        "        model.train()\n",
        "\n",
        "        for i, batch in enumerate(data):\n",
        "            x, y = batch\n",
        "\n",
        "            # Push data to GPU if necessary\n",
        "            if self.gpu:\n",
        "                x = Variable(x.cuda())\n",
        "                y = Variable(y.cuda())\n",
        "            else:\n",
        "                x = Variable(x)\n",
        "                y = Variable(y)\n",
        "\n",
        "            # Forward pass of prediction\n",
        "            outputs = model(x)\n",
        "\n",
        "            # Zero out the parameter gradients, because they are cumulative,\n",
        "            # compute loss, compute gradients (backward), update weights\n",
        "            loss = loss_fn(outputs, y)\n",
        "            optimizer.zero_grad()\n",
        "            loss.backward()\n",
        "            optimizer.step()\n",
        "\n",
        "            total_loss += loss.item()\n",
        "\n",
        "        mean_loss = total_loss / (i + 1.0)\n",
        "        return mean_loss\n",
        "\n",
        "    def _validate_once(\n",
        "        self, model: nn.Module, data: DataLoader, loss_fn: nn.CrossEntropyLoss\n",
        "    ) -> float:\n",
        "        total_loss = 0.0\n",
        "        # Switch the model back to test mode (so that batch norm/dropout doesn't\n",
        "        # take effect)\n",
        "        model.train()\n",
        "        for i, batch in enumerate(data):\n",
        "            x, y = batch\n",
        "\n",
        "            if self.gpu:\n",
        "                x = x.cuda()\n",
        "                y = y.cuda()\n",
        "\n",
        "            outputs = model(x)\n",
        "            loss = loss_fn(outputs, y)\n",
        "            total_loss += loss.item()\n",
        "\n",
        "        mean_loss = total_loss / (i + 1.0)\n",
        "        return mean_loss"
      ]
    },
    {
      "cell_type": "code",
      "execution_count": 12,
      "metadata": {
        "id": "WajMNLpTzsnc",
        "colab": {
          "base_uri": "https://localhost:8080/"
        },
        "outputId": "02a82d59-164e-4a0d-b353-f3dc7c876fe4"
      },
      "outputs": [
        {
          "output_type": "stream",
          "name": "stdout",
          "text": [
            "MyTrainingStrategy(lr=0.001, n_epochs=4, gpu=True)\n"
          ]
        }
      ],
      "source": [
        "trainer = MyTrainingStrategy(gpu=gpu)\n",
        "print(trainer)"
      ]
    },
    {
      "cell_type": "markdown",
      "metadata": {
        "id": "69T8pBd0zsne"
      },
      "source": [
        "## Putting it All Together\n",
        "\n",
        "swap train and test"
      ]
    },
    {
      "cell_type": "code",
      "source": [
        "xtrain = train\n",
        "xtest = test\n",
        "train = xtest\n",
        "test = train"
      ],
      "metadata": {
        "id": "mKiQb_bIr9ny"
      },
      "execution_count": 13,
      "outputs": []
    },
    {
      "cell_type": "code",
      "execution_count": 14,
      "metadata": {
        "id": "at04fc4Hzsne",
        "colab": {
          "base_uri": "https://localhost:8080/"
        },
        "outputId": "1fc32bbf-217e-4d4b-a05d-4fba462a6ab8"
      },
      "outputs": [
        {
          "output_type": "stream",
          "name": "stdout",
          "text": [
            "On Epoch 0 the training loss was 1.313887639758513\n",
            "---- validation loss was 1.201190253666469\n",
            "On Epoch 1 the training loss was 1.1700485628290274\n",
            "---- validation loss was 1.1739940745489938\n",
            "On Epoch 2 the training loss was 1.1385448863825847\n",
            "---- validation loss was 1.1614917039871215\n",
            "On Epoch 3 the training loss was 1.11511296556168\n",
            "---- validation loss was 1.1600257498877389\n"
          ]
        }
      ],
      "source": [
        "train_loss, val_loss = trainer(model=model,\n",
        "                               training=train,\n",
        "                               validation=val,\n",
        "                               le=le)"
      ]
    },
    {
      "cell_type": "code",
      "execution_count": 15,
      "metadata": {
        "id": "MRO2b-Ndzsnf",
        "colab": {
          "base_uri": "https://localhost:8080/",
          "height": 350
        },
        "outputId": "1a1f1432-2756-4a79-b216-332dbc637e0f"
      },
      "outputs": [
        {
          "output_type": "display_data",
          "data": {
            "text/plain": [
              "<Figure size 720x360 with 1 Axes>"
            ],
            "image/png": "[encoded data removed]"
          },
          "metadata": {}
        }
      ],
      "source": [
        "title = \"Training Results of {model_name} on {dataset_name}\".format(model_name=\"MyCLDNN\", dataset_name=\"RML2016.10A\")\n",
        "fig = plot_convergence(train_loss=train_loss, val_loss=val_loss, title=title)\n",
        "if fig_dir is not None:\n",
        "    file_path = \"{fig_dir}/training_loss.pdf\"\n",
        "    print(\"Saving Figure -> {file_path}\".format(file_path=file_path))\n",
        "    fig.savefig(file_path, format=\"pdf\", transparent=True)\n",
        "plt.show()"
      ]
    },
    {
      "cell_type": "markdown",
      "metadata": {
        "id": "XbwKjYygzsnh"
      },
      "source": [
        "## Testing the Trained Model"
      ]
    },
    {
      "cell_type": "code",
      "execution_count": 16,
      "metadata": {
        "id": "uAZ3mZEzzsnh",
        "colab": {
          "base_uri": "https://localhost:8080/"
        },
        "outputId": "93badc5e-b440-40a5-d0f5-90a32b1da635"
      },
      "outputs": [
        {
          "output_type": "stream",
          "name": "stdout",
          "text": [
            "Overall Testing Accuracy: 0.5892\n"
          ]
        }
      ],
      "source": [
        "acc = compute_accuracy(model=model, data=test, le=le)\n",
        "print(\"Overall Testing Accuracy: {:.4f}\".format(acc))"
      ]
    },
    {
      "cell_type": "code",
      "source": [
        "type(test)"
      ],
      "metadata": {
        "id": "E9NstRSh055P",
        "colab": {
          "base_uri": "https://localhost:8080/"
        },
        "outputId": "75102cf2-c3e7-402b-d511-2b00d795db7b"
      },
      "execution_count": 17,
      "outputs": [
        {
          "output_type": "execute_result",
          "data": {
            "text/plain": [
              "rfml.data.dataset.Dataset"
            ]
          },
          "metadata": {},
          "execution_count": 17
        }
      ]
    },
    {
      "cell_type": "code",
      "execution_count": 18,
      "metadata": {
        "id": "v40LSsC4zsni",
        "colab": {
          "base_uri": "https://localhost:8080/",
          "height": 422
        },
        "outputId": "2cdfe369-9e7b-4175-e186-9332ec30146c"
      },
      "outputs": [
        {
          "output_type": "stream",
          "name": "stdout",
          "text": [
            "acc_vs_snr: [0.3025930783977399, 0.6915548380587226, 0.8247401876702654, 0.8409847644031884, 0.607002320653819, 0.8431036222379175, 0.8411865603874483, 0.10927252547674302, 0.7573403289274544, 0.8338210069619615, 0.8052668751891837, 0.10392493189385531, 0.8307940671980628, 0.8332156190091817, 0.1299566138633841, 0.10331954394107558, 0.1926142669760872, 0.8356371708203006, 0.45313288265563517, 0.8448188881041268]\n",
            "snr: [-10, -4, 2, 14, -6, 10, 18, -16, -2, 12, 0, -20, 6, 4, -14, -18, -12, 16, -8, 8]\n",
            "data: <rfml.data.dataset.Dataset object at 0x7f2d31cff1d0>\n"
          ]
        },
        {
          "output_type": "display_data",
          "data": {
            "text/plain": [
              "<Figure size 720x360 with 1 Axes>"
            ],
            "image/png": "[encoded data removed]"
          },
          "metadata": {}
        }
      ],
      "source": [
        "acc_vs_snr, snr = compute_accuracy_on_cross_sections(model=model,\n",
        "                                                     data=test,\n",
        "                                                     le=le,\n",
        "                                                     column=\"SNR\")\n",
        "\n",
        "print(\"acc_vs_snr: {acc_vs_snr}\".format(acc_vs_snr=acc_vs_snr))\n",
        "print(\"snr: {snr}\".format(snr=snr))\n",
        "print(\"data: {data}\".format(data=test))\n",
        "\n",
        "title = \"Accuracy vs SNR of {model_name} on {dataset_name}\".format(model_name=\"MyCLDNN\", dataset_name=\"RML2016.10A\")\n",
        "fig = plot_acc_vs_snr(acc_vs_snr=acc_vs_snr, snr=snr, title=title)\n",
        "if fig_dir is not None:\n",
        "    file_path = \"{fig_dir}/acc_vs_snr.pdf\"\n",
        "    print(\"Saving Figure -> {file_path}\".format(file_path=file_path))\n",
        "    fig.savefig(file_path, format=\"pdf\", transparent=True)\n",
        "plt.show()"
      ]
    },
    {
      "cell_type": "code",
      "execution_count": 19,
      "metadata": {
        "id": "4V8j3KfYzsnj",
        "colab": {
          "base_uri": "https://localhost:8080/",
          "height": 380
        },
        "outputId": "cf473b38-e492-49be-9407-bfaff0721dfd"
      },
      "outputs": [
        {
          "output_type": "display_data",
          "data": {
            "text/plain": [
              "<Figure size 720x360 with 2 Axes>"
            ],
            "image/png": "[encoded data removed]"
          },
          "metadata": {}
        }
      ],
      "source": [
        "cmn = compute_confusion(model=model, data=test, le=le)\n",
        "\n",
        "title = \"Confusion Matrix of {model_name} on {dataset_name}\".format(model_name=\"MyCLDNN\", dataset_name=\"RML2016.10A\")\n",
        "fig = plot_confusion(cm=cmn, labels=le.labels, title=title)\n",
        "if fig_dir is not None:\n",
        "    file_path = \"{fig_dir}/confusion_matrix.pdf\"\n",
        "    print(\"Saving Figure -> {file_path}\".format(file_path=file_path))\n",
        "    fig.savefig(file_path, format=\"pdf\", transparent=True)\n",
        "plt.show()"
      ]
    },
    {
      "cell_type": "markdown",
      "source": [
        "### Assuming Noise aka Loss function is zero (https://www.omnicalculator.com/physics/signal-to-noise-ratio)\n",
        "\n",
        "\n"
      ],
      "metadata": {
        "id": "RlWjzQuoakIC"
      }
    },
    {
      "cell_type": "markdown",
      "source": [
        "## Attack FGSM before and after\n",
        "\n"
      ],
      "metadata": {
        "id": "K6apBJ8oGVI8"
      }
    },
    {
      "cell_type": "code",
      "source": [
        "spr = 6 # Signal to Pertubation raito in dB\n",
        "torch.backends.cudnn.enabled = False"
      ],
      "metadata": {
        "id": "NFkEe4ocwvdK"
      },
      "execution_count": 20,
      "outputs": []
    },
    {
      "cell_type": "code",
      "source": [
        "#_, _, test, le = build_dataset(dataset_name=dataset, test_pct=0.9)\n",
        "mask = test.df[\"SNR\"] >= 1\n",
        "#model = build_model(model_name=\"CLDNN\", input_samples=128, n_classes=len(le))\n",
        "#model.load(\"cnn.pt\")\n",
        "model.train()\n",
        "\n",
        "## No Attack\n",
        "acc = compute_accuracy(model=model, data=test, le=le, mask=mask)\n",
        "print(\"Normal (no attack) Accuracy on Dataset: {:.3f}\".format(acc))\n",
        "\n",
        "# print(model)\n",
        "\n",
        "## ATTACK\n",
        "#spr = 1  # signal to perturbation ratio in DB\n",
        "right = 0\n",
        "total = 0\n",
        "dl = DataLoader(test.as_torch(le=le, mask=mask), shuffle=True, batch_size=512)\n",
        "for x, y in dl:\n",
        "    adv_x = fgsm(x, y, spr=spr, input_size=128, sps=2, net=model)\n",
        "    predictions = model.predict(adv_x)\n",
        "    right += (predictions == y).sum().item()\n",
        "    total += len(y)\n",
        "\n",
        "adv_acc = float(right) / total\n",
        "print(\"Adversarial Accuracy with SPR of {} dB attack: {:.3f}\".format(spr, adv_acc))\n",
        "print(\"FGSM Degraded Model Accuracy by {:.3f}\".format(acc - adv_acc))\n",
        "\n",
        "\n",
        "\n"
      ],
      "metadata": {
        "id": "q5uexu3B3oZJ",
        "colab": {
          "base_uri": "https://localhost:8080/"
        },
        "outputId": "1c72a8df-5ec5-4f75-ec95-29f248d1acb0"
      },
      "execution_count": 21,
      "outputs": [
        {
          "output_type": "stream",
          "name": "stdout",
          "text": [
            "Normal (no attack) Accuracy on Dataset: 0.836\n",
            "Adversarial Accuracy with SPR of 6 dB attack: 0.086\n",
            "FGSM Degraded Model Accuracy by 0.750\n"
          ]
        }
      ]
    },
    {
      "cell_type": "markdown",
      "source": [
        "## Attack PGD before and after\n",
        "\n",
        "\n"
      ],
      "metadata": {
        "id": "pThcUaf1vfTt"
      }
    },
    {
      "cell_type": "code",
      "source": [
        " spr = 6  # Signal to Pertubation raito in dB"
      ],
      "metadata": {
        "id": "UWQ93QC6wmMj"
      },
      "execution_count": 22,
      "outputs": []
    },
    {
      "cell_type": "code",
      "source": [
        "#_, _, test, le = build_dataset(dataset_name=dataset, test_pct=0.9)\n",
        "mask = test.df[\"SNR\"] >= 1\n",
        "#model = build_model(model_name=\"CLDNN\", input_samples=128, n_classes=len(le))\n",
        "#model.load(\"cnn.pt\")\n",
        "\n",
        "## No Attack\n",
        "acc = compute_accuracy(model=model, data=test, le=le, mask=mask)\n",
        "print(\"Normal (no attack) Accuracy on Dataset: {:.3f}\".format(acc))\n",
        "\n",
        "\n",
        "## ATTACK\n",
        "#spr = 10  # dB\n",
        "right = 0\n",
        "total = 0\n",
        "dl = DataLoader(test.as_torch(le=le, mask=mask), shuffle=True, batch_size=512)\n",
        "k = 7 # Number of iterations to use for the attack\n",
        "for x, y in dl:\n",
        "    adv_x = pgd(x, y, k=k, net=model, spr=spr, input_size=128, sps=2)\n",
        "    predictions = model.predict(adv_x)\n",
        "    right += (predictions == y).sum().item()\n",
        "    total += len(y)\n",
        "\n",
        "adv_acc = float(right) / total\n",
        "print(\"Adversarial Accuracy with SPR of {} dB attack: {:.3f}\".format(spr, adv_acc))\n",
        "print(\"PGD Degraded Model Accuracy by {:.3f}\".format(acc - adv_acc))"
      ],
      "metadata": {
        "id": "7xw07YZevnOT",
        "colab": {
          "base_uri": "https://localhost:8080/"
        },
        "outputId": "d5eaff09-f36c-434c-d43c-28c78d8f7d1d"
      },
      "execution_count": 23,
      "outputs": [
        {
          "output_type": "stream",
          "name": "stdout",
          "text": [
            "Normal (no attack) Accuracy on Dataset: 0.836\n",
            "Adversarial Accuracy with SPR of 6 dB attack: 0.069\n",
            "PGD Degraded Model Accuracy by 0.767\n"
          ]
        }
      ]
    },
    {
      "cell_type": "markdown",
      "source": [
        "### Using FGSM and PGD for target attack"
      ],
      "metadata": {
        "id": "6WrFraLsMPs5"
      }
    },
    {
      "cell_type": "markdown",
      "source": [
        "declaration"
      ],
      "metadata": {
        "id": "o-rJo-uyXlu2"
      }
    },
    {
      "cell_type": "code",
      "source": [
        "def fgsm(x, y, input_size, net, spr, sps):\n",
        "    p = compute_signed_gradient(x=x, y=y, input_size=input_size, net=net)\n",
        "    p = scale_perturbation(sg=p, spr=spr, sps=sps)\n",
        "    \n",
        "    return x + p\n",
        "\n",
        "\n",
        "def compute_signed_gradient(x, y, input_size, net):\n",
        "    # Ensure that the gradient is tracked at the input, add some noise to avoid any\n",
        "    # actual zeros in the signal (dithering), and then ensure its the proper shape\n",
        "    x.requires_grad = True\n",
        "    _x = _dither(x)\n",
        "\n",
        "    # Put the inputs/outputs onto the most probable device that the model is currently\n",
        "    # on -- this could fail if the model gets split amongst multiple devies, but, that\n",
        "    # doesn't happen in this code.\n",
        "    _x = _x.to(net.device)\n",
        "    y = y.to(net.device)\n",
        "\n",
        "    # Perform forward/backward pass to get the gradient at the input\n",
        "    _y = net(_x)\n",
        "    loss = cross_entropy(_y, y)\n",
        "    loss.backward()\n",
        "\n",
        "    # Take the sign of the gradient that can be scaled later\n",
        "    ret = torch.sign(x.grad.data)\n",
        "\n",
        "    return ret\n",
        "\n",
        "\n",
        "def scale_perturbation(sg, spr, sps):\n",
        "    if spr == np.inf:\n",
        "        return sg * 0\n",
        "    multiplier = pow(10, -spr / 10.0)\n",
        "    multiplier = multiplier / (2 * sps)\n",
        "    multiplier = pow(multiplier, 0.5)\n",
        "\n",
        "    return sg * multiplier\n",
        "\n",
        "\n",
        "def _dither(x):\n",
        "    snr = 100\n",
        "    voltage = pow(pow(10.0, -snr / 10.0), 0.5)\n",
        "\n",
        "    noise = x.data.new(x.size()).normal_(0.0, voltage)\n",
        "    return x + noise\n",
        "\n",
        "\n",
        "def _normalize(x):\n",
        "    power = energy(x)\n",
        "    # Make the dimensions match because broadcasting is too magical to\n",
        "    # understand in its entirety... essentially want to ensure that we\n",
        "    # divide each channel of each example by the sqrt of the power of\n",
        "    # that channel/example pair\n",
        "    power = power.view([power.size()[0], power.size()[1], 1, 1])\n",
        "\n",
        "    return x / torch.sqrt(power)\n",
        "\n",
        "\n",
        "def _sanity_check(desired_spr, adv_x, x):\n",
        "    signal_power = energy(x) # Google Colab always return 1 unit of energy ?\n",
        "    perturbation_power = energy(adv_x - x) # Google Colab always return 5 units of perturbation when SPR is 6\n",
        "    _spr = 10*torch.log10(signal_power / perturbation_power)\n",
        "    _spr = _spr.detach().numpy().mean()\n",
        "    if np.abs(_spr - desired_spr) > 0.4:\n",
        "        raise RuntimeError(\"Calculated SPR and desired SPR does not match: \"\n",
        "                           \"Desired SPR={:0.2f}dB, Calculated SPR={:0.2f}dB, \"\n",
        "                           \"Signal Power={:0.2f}dB, Perturbation Power={:0.2f}dB\".format(\n",
        "                               desired_spr,\n",
        "                               _spr,\n",
        "                               10.0*np.log10(signal_power.detach().numpy().mean()),\n",
        "                               10.0*np.log10(perturbation_power.detach().numpy().mean()))\n",
        "                          )"
      ],
      "metadata": {
        "id": "ySNjB7kQMRyu"
      },
      "execution_count": 24,
      "outputs": []
    },
    {
      "cell_type": "markdown",
      "source": [
        "need fresh dataset for another FGSM attack"
      ],
      "metadata": {
        "id": "HH72SHBlNAiH"
      }
    },
    {
      "cell_type": "code",
      "source": [
        "# train, test, val, le = build_dataset(\"RML2016.10a\", path=data_path)\n",
        "# as_numpy returns x,y and x is shape BxCxIQxN\n",
        "input_samples = val.as_numpy(le=le)[0].shape[3]\n",
        "#model = build_model(model_name=\"CLDNN\", input_samples=input_samples, n_classes=len(le)) # ?USE BACK above myCNN model\n",
        "# trainer = build_trainer(strategy=\"standard\", max_epochs=3, gpu=gpu)\n",
        "# trainer.register_listener(PrintingTrainingListener())\n",
        "trainer = MyTrainingStrategy(gpu=gpu)\n",
        "trainer(model=model, training=train, validation=val, le=le)\n",
        "acc = compute_accuracy(model=model, data=test, le=le)\n",
        "\n",
        "print(\"Overall Testing Accuracy: {:.4f}\".format(acc))"
      ],
      "metadata": {
        "id": "YUonUKyYNDJQ",
        "colab": {
          "base_uri": "https://localhost:8080/"
        },
        "outputId": "f61c4c09-dcc5-4255-92cd-5ab34da96ba9"
      },
      "execution_count": 28,
      "outputs": [
        {
          "output_type": "stream",
          "name": "stdout",
          "text": [
            "On Epoch 0 the training loss was 1.1753462104453254\n",
            "---- validation loss was 1.1650877339499337\n",
            "On Epoch 1 the training loss was 1.0967956020967247\n",
            "---- validation loss was 1.1687592608588082\n",
            "On Epoch 2 the training loss was 1.0639763588143378\n",
            "---- validation loss was 1.1935401507786343\n",
            "On Epoch 3 the training loss was 1.026934478393535\n",
            "---- validation loss was 1.2045077800750732\n",
            "Overall Testing Accuracy: 0.6441\n"
          ]
        }
      ]
    },
    {
      "cell_type": "markdown",
      "source": [
        "Strip Down the Testing Data\n",
        "Strip the data down to only the highest SNR (18 dB in RML2016.10a). This ensures that the classification accuracy would have been close to the highest and gives the best evaluation of the attack because it separates the decreased accuracy from being causes by low SNR vs being caused by the attack."
      ],
      "metadata": {
        "id": "zD_6j7LoNtl0"
      }
    },
    {
      "cell_type": "code",
      "source": [
        "mask = test.df[\"SNR\"] >= 1\n",
        "dl = DataLoader(test.as_torch(le=le, mask=mask), shuffle=True, batch_size=512)\n",
        "spr = 6  # Signal to Pertubation raito in dB"
      ],
      "metadata": {
        "id": "SKYfvKBeNupW"
      },
      "execution_count": 26,
      "outputs": []
    },
    {
      "cell_type": "markdown",
      "source": [
        "### Tuned FGSM Attack 1 \n",
        "SPS = *1* samples, SPR = 6 DB, SNR >=1 to SNR <= 18 for the FGSM attack\n"
      ],
      "metadata": {
        "id": "esFVQAfCMT6K"
      }
    },
    {
      "cell_type": "code",
      "source": [
        "# Ensure that the model is in \"evaluation\" mode\n",
        "# -- Therefore batch normalization is not computed and dropout is not performed\n",
        "# -- Note: This is the cause of a lot of bugs\n",
        "torch.backends.cudnn.enabled = False\n",
        "\n",
        "acc_vs_spr = list()\n",
        "sprs = list()\n",
        "\n",
        "for spr in np.linspace(50.0, 0.0, num=26):\n",
        "    right = 0\n",
        "    total = 0\n",
        "    \n",
        "    for x, y in dl:\n",
        "        # Before crafting an attack on X, ensure that it is normalized to have a\n",
        "        # specified power -- RML2016.10a fluctuates a bit, especially on AM-SSB,\n",
        "        # which will cause the attack intensity to be incorrect.\n",
        "        x = _normalize(x)\n",
        "        adv_x = fgsm(x, y, spr=spr, input_size=input_samples, sps=1, net=model)\n",
        "        \n",
        "        # Ensure that we've accurately represented the attack power\n",
        "        #_sanity_check(desired_spr=spr, adv_x=adv_x, x=x)\n",
        "        \n",
        "        predictions = model.predict(adv_x)\n",
        "        right += (predictions == y).sum().item()\n",
        "        total += len(y)\n",
        "\n",
        "    acc = float(right) / total\n",
        "    acc_vs_spr.append(acc)\n",
        "    sprs.append(spr)\n",
        "\n",
        "fig = plot_acc_vs_spr(acc_vs_spr=acc_vs_spr,\n",
        "                      spr=sprs,\n",
        "                      title=\"Performance of a Digital FGSM Attack\"\n",
        "                     )\n",
        "if fig_dir is not None:\n",
        "    file_path = \"{fig_dir}/direct_access_fgsm.pdf\".format(fig_dir=fig_dir)\n",
        "    print(\"Saving Figure -> {file_path}\".format(file_path=file_path))\n",
        "    fig.savefig(file_path, format=\"pdf\", transparent=True)\n",
        "plt.show()"
      ],
      "metadata": {
        "id": "C8s2wkNNMV1W"
      },
      "execution_count": null,
      "outputs": []
    },
    {
      "cell_type": "markdown",
      "source": [
        "Constructing a Confusion Matrix\n",
        "The model breaks down in a way that generally intuitively makes sense to the expert eye with knowledge of the underlying signal formats. The analog signals are confused for other analog signals, the PSK/QAM signals are confused for other PSK/QAMs with differing modulation orders, etc. This behavior was examined more closely for targeted adversarial attacks in [Bair et al.] where it was found that the adversarial distance [Papernot et al.], or put more simply, the adversarial perturbation power required to \"transform\" 50% of the input examples from a source to target class, could be used in a spectral clustering algorithm to recover the relationships between the signal formats."
      ],
      "metadata": {
        "id": "4FVeddGWOQ4X"
      }
    },
    {
      "cell_type": "code",
      "source": [
        "spr = 6  # dB # Signal to Perturbation Ratio in DB, typically Sample to Signal size is set to 2"
      ],
      "metadata": {
        "id": "WWbGiA3TwL-q"
      },
      "execution_count": null,
      "outputs": []
    },
    {
      "cell_type": "code",
      "source": [
        "predictions = list()\n",
        "labels = list()\n",
        "for x, y in dl:\n",
        "    # Before crafting an attack on X, ensure that it is normalized to have a\n",
        "    # specified power -- RML2016.10a fluctuates a bit, especially on AM-SSB,\n",
        "    # which will cause the attack intensity to be incorrect.\n",
        "    x = _normalize(x)\n",
        "    adv_x = fgsm(x, y, spr=spr, input_size=input_samples, sps=1, net=model)\n",
        "\n",
        "    # Ensure that we've accurately represented the attack power\n",
        "    #_sanity_check(desired_spr=spr, adv_x=adv_x, x=x)\n",
        "\n",
        "    _predictions = model.predict(adv_x)\n",
        "    predictions.extend(_predictions.detach().numpy())\n",
        "    labels.extend(y)\n",
        "\n",
        "cmn = _confusion_matrix(predictions=predictions, labels=labels, le=le)\n",
        "\n",
        "title = \"Confusion Matrix with a {spr} dB FGSM Attack\".format(spr=spr)\n",
        "fig = plot_confusion(cm=cmn, labels=le.labels, title=title)\n",
        "if fig_dir is not None:\n",
        "    file_path = \"{fig_dir}/fgsm_confusion_matrix.pdf\"\n",
        "    print(\"Saving Figure -> {file_path}\".format(file_path=file_path))\n",
        "    fig.savefig(file_path, format=\"pdf\", transparent=True)\n",
        "plt.show()"
      ],
      "metadata": {
        "id": "ZsGOKum8ORlK"
      },
      "execution_count": null,
      "outputs": []
    },
    {
      "cell_type": "markdown",
      "source": [
        "### Tuned FGSM Attack 2  \n",
        "SPS = 1 samples, SPR = 6 DB, SNR = 18 for the FGSM attack **limit SNR to 18 DB**"
      ],
      "metadata": {
        "id": "1f2pFcIBQ1ix"
      }
    },
    {
      "cell_type": "code",
      "source": [
        "mask = test.df[\"SNR\"] >= 18\n",
        "dl = DataLoader(test.as_torch(le=le, mask=mask), shuffle=True, batch_size=512)\n",
        "spr = 6  # Signal to Pertubation raito in dB"
      ],
      "metadata": {
        "id": "5uX88XuiRXdx"
      },
      "execution_count": null,
      "outputs": []
    },
    {
      "cell_type": "code",
      "source": [
        "# Ensure that the model is in \"evaluation\" mode\n",
        "# -- Therefore batch normalization is not computed and dropout is not performed\n",
        "# -- Note: This is the cause of a lot of bugs\n",
        "model.train()\n",
        "\n",
        "acc_vs_spr = list()\n",
        "sprs = list()\n",
        "\n",
        "for spr in np.linspace(50.0, 0.0, num=26):\n",
        "    right = 0\n",
        "    total = 0\n",
        "    \n",
        "    for x, y in dl:\n",
        "        # Before crafting an attack on X, ensure that it is normalized to have a\n",
        "        # specified power -- RML2016.10a fluctuates a bit, especially on AM-SSB,\n",
        "        # which will cause the attack intensity to be incorrect.\n",
        "        x = _normalize(x)\n",
        "        adv_x = fgsm(x, y, spr=spr, input_size=input_samples, sps=1, net=model)\n",
        "        \n",
        "        # Ensure that we've accurately represented the attack power\n",
        "        #_sanity_check(desired_spr=spr, adv_x=adv_x, x=x)\n",
        "        \n",
        "        predictions = model.predict(adv_x)\n",
        "        right += (predictions == y).sum().item()\n",
        "        total += len(y)\n",
        "\n",
        "    acc = float(right) / total\n",
        "    acc_vs_spr.append(acc)\n",
        "    sprs.append(spr)\n",
        "\n",
        "fig = plot_acc_vs_spr(acc_vs_spr=acc_vs_spr,\n",
        "                      spr=sprs,\n",
        "                      title=\"Performance of a Digital FGSM Attack\"\n",
        "                     )\n",
        "if fig_dir is not None:\n",
        "    file_path = \"{fig_dir}/direct_access_fgsm.pdf\".format(fig_dir=fig_dir)\n",
        "    print(\"Saving Figure -> {file_path}\".format(file_path=file_path))\n",
        "    fig.savefig(file_path, format=\"pdf\", transparent=True)\n",
        "plt.show()"
      ],
      "metadata": {
        "id": "KVSTmFrJRBAx"
      },
      "execution_count": null,
      "outputs": []
    },
    {
      "cell_type": "code",
      "source": [
        "spr = 6  # dB # Signal to Perturbation Ratio in DB, typically Sample to Signal size is set to 1"
      ],
      "metadata": {
        "id": "VqbrMb8zRktV"
      },
      "execution_count": null,
      "outputs": []
    },
    {
      "cell_type": "markdown",
      "source": [
        "## Tuned FGSM can change modulation \n",
        "i.e. \n",
        "     xxx but limited to 1-way"
      ],
      "metadata": {
        "id": "XAjuvn_jSFVr"
      }
    },
    {
      "cell_type": "markdown",
      "source": [
        "### Reset back to 1 to 18 SNR\n",
        "\n",
        "\n"
      ],
      "metadata": {
        "id": "kqUJcAPcV2gM"
      }
    },
    {
      "cell_type": "code",
      "source": [
        "mask = test.df[\"SNR\"] >= 1"
      ],
      "metadata": {
        "id": "7QJD0LypV05M"
      },
      "execution_count": null,
      "outputs": []
    },
    {
      "cell_type": "code",
      "source": [
        "predictions = list()\n",
        "labels = list()\n",
        "for x, y in dl:\n",
        "    # Before crafting an attack on X, ensure that it is normalized to have a\n",
        "    # specified power -- RML2016.10a fluctuates a bit, especially on AM-SSB,\n",
        "    # which will cause the attack intensity to be incorrect.\n",
        "    x = _normalize(x)\n",
        "    adv_x = fgsm(x, y, spr=spr, input_size=input_samples, sps=1, net=model)\n",
        "\n",
        "    # Ensure that we've accurately represented the attack power\n",
        "    #_sanity_check(desired_spr=spr, adv_x=adv_x, x=x)\n",
        "\n",
        "    _predictions = model.predict(adv_x)\n",
        "    predictions.extend(_predictions.detach().numpy())\n",
        "    labels.extend(y)\n",
        "\n",
        "cmn = _confusion_matrix(predictions=predictions, labels=labels, le=le)\n",
        "\n",
        "title = \"Confusion Matrix with a {spr} dB FGSM Attack\".format(spr=spr)\n",
        "fig = plot_confusion(cm=cmn, labels=le.labels, title=title)\n",
        "if fig_dir is not None:\n",
        "    file_path = \"{fig_dir}/fgsm_confusion_matrix.pdf\"\n",
        "    print(\"Saving Figure -> {file_path}\".format(file_path=file_path))\n",
        "    fig.savefig(file_path, format=\"pdf\", transparent=True)\n",
        "plt.show()"
      ],
      "metadata": {
        "id": "whO5iYWnRjrO"
      },
      "execution_count": null,
      "outputs": []
    },
    {
      "cell_type": "markdown",
      "source": [
        "### Writeup on FGSM attacks\n",
        "\n",
        "xxxx something xxx"
      ],
      "metadata": {
        "id": "lS3GxPz_cVKo"
      }
    },
    {
      "cell_type": "markdown",
      "source": [
        "### need fresh dataset for another PGD attack"
      ],
      "metadata": {
        "id": "I_SEA8ocY2WL"
      }
    },
    {
      "cell_type": "code",
      "source": [
        "# train, test, val, le = build_dataset(\"RML2016.10a\", path=data_path)\n",
        "# as_numpy returns x,y and x is shape BxCxIQxN\n",
        "input_samples = val.as_numpy(le=le)[0].shape[3]\n",
        "#model = build_model(model_name=\"CLDNN\", input_samples=input_samples, n_classes=len(le)) # ?USE BACK above myCNN model\n",
        "# trainer = build_trainer(strategy=\"standard\", max_epochs=3, gpu=gpu)\n",
        "# trainer.register_listener(PrintingTrainingListener())\n",
        "trainer = MyTrainingStrategy(gpu=gpu)\n",
        "trainer(model=model, training=train, validation=val, le=le)\n",
        "acc = compute_accuracy(model=model, data=test, le=le)\n",
        "\n",
        "print(\"Overall Testing Accuracy: {:.4f}\".format(acc))"
      ],
      "metadata": {
        "id": "jia3BMfKY1Qo"
      },
      "execution_count": null,
      "outputs": []
    },
    {
      "cell_type": "markdown",
      "source": [
        "# Tuned PGD attack 1\n",
        "\n",
        "\n",
        "\n",
        "\n"
      ],
      "metadata": {
        "id": "xIFpcD5XOQrr"
      }
    },
    {
      "cell_type": "code",
      "source": [
        "k = 8 # Number of iterations to use for the attack\n",
        "sps = 2 # Number of samples\n",
        "spr = 6 #signal to perturbation ratio in DB\n",
        "\n",
        "# Ensure that the model is in \"evaluation\" mode\n",
        "# -- Therefore batch normalization is not computed and dropout is not performed\n",
        "# -- Note: This is the cause of a lot of bugs\n",
        "model.train()\n",
        "\n",
        "acc_vs_spr = list()\n",
        "sprs = list()\n",
        "for spr in np.linspace(50.0, 0.0, num=26):\n",
        "    right = 0\n",
        "    total = 0\n",
        "    \n",
        "    for x, y in dl:\n",
        "        # Before crafting an attack on X, ensure that it is normalized to have a\n",
        "        # specified power -- RML2016.10a fluctuates a bit, especially on AM-SSB,\n",
        "        # which will cause the attack intensity to be incorrect.\n",
        "        x = _normalize(x)\n",
        "        adv_x = pgd(x, y, k=k, spr=spr, input_size=input_samples, sps=sps, net=model)\n",
        "        \n",
        "        # Ensure that we've accurately represented the attack power\n",
        "        #_sanity_check(desired_spr=spr, adv_x=adv_x, x=x)\n",
        "        \n",
        "        predictions = model.predict(adv_x)\n",
        "        right += (predictions == y).sum().item()\n",
        "        total += len(y)\n",
        "\n",
        "    acc = float(right) / total\n",
        "    acc_vs_spr.append(acc)\n",
        "    sprs.append(spr)\n",
        "\n",
        "fig = plot_acc_vs_spr(acc_vs_spr=acc_vs_spr,\n",
        "                      spr=sprs,\n",
        "                      title=\"Performance of a Digital PGD Attack\"\n",
        "                     )\n",
        "if fig_dir is not None:\n",
        "    file_path = \"{fig_dir}/direct_access_pgd.pdf\".format(fig_dir=fig_dir)\n",
        "    print(\"Saving Figure -> {file_path}\".format(file_path=file_path))\n",
        "    fig.savefig(file_path, format=\"pdf\", transparent=True)\n",
        "plt.show()"
      ],
      "metadata": {
        "id": "YxeLZ0jvQAOi"
      },
      "execution_count": null,
      "outputs": []
    },
    {
      "cell_type": "code",
      "source": [
        "spr = 6 #signal to perturbation ratio in DB\n",
        "\n",
        "predictions = list()\n",
        "labels = list()\n",
        "for x, y in dl:\n",
        "    # Before crafting an attack on X, ensure that it is normalized to have a\n",
        "    # specified power -- RML2016.10a fluctuates a bit, especially on AM-SSB,\n",
        "    # which will cause the attack intensity to be incorrect.\n",
        "    x = _normalize(x)\n",
        "    adv_x = pgd(x, y, k=k, spr=spr, input_size=input_samples, sps=sps, net=model)\n",
        "\n",
        "    # Ensure that we've accurately represented the attack power\n",
        "    #_sanity_check(desired_spr=spr, adv_x=adv_x, x=x)\n",
        "\n",
        "    _predictions = model.predict(adv_x)\n",
        "    predictions.extend(_predictions.detach().numpy())\n",
        "    labels.extend(y)\n",
        "\n",
        "cmn = _confusion_matrix(predictions=predictions, labels=labels, le=le)\n",
        "\n",
        "title = \"Confusion Matrix with a {spr} dB PGD Attack\".format(spr=spr)\n",
        "fig = plot_confusion(cm=cmn, labels=le.labels, title=title)\n",
        "if fig_dir is not None:\n",
        "    file_path = \"{fig_dir}/pgd_confusion_matrix.pdf\"\n",
        "    print(\"Saving Figure -> {file_path}\".format(file_path=file_path))\n",
        "    fig.savefig(file_path, format=\"pdf\", transparent=True)\n",
        "plt.show()"
      ],
      "metadata": {
        "id": "AwEvgsLSQyXb"
      },
      "execution_count": null,
      "outputs": []
    },
    {
      "cell_type": "markdown",
      "source": [
        "# Tuned PGD attack 2\n",
        "K, number of iteration\n",
        "sps, number of samples\n",
        "spr, Signal to Perturbation in DB\n",
        "Mask, selection of SNR limited to **18 SNR**\n",
        "\n",
        "\n"
      ],
      "metadata": {
        "id": "RPU-uaHhVfQb"
      }
    },
    {
      "cell_type": "code",
      "source": [
        "k = 8 # Number of iterations to use for the attack\n",
        "sps = 8 # Number of samples\n",
        "spr = 2 #signal to perturbation ratio in DB\n",
        "mask = test.df[\"SNR\"] >= 18\n",
        "\n",
        "# Ensure that the model is in \"evaluation\" mode\n",
        "# -- Therefore batch normalization is not computed and dropout is not performed\n",
        "# -- Note: This is the cause of a lot of bugs\n",
        "model.train()\n",
        "\n",
        "acc_vs_spr = list()\n",
        "sprs = list()\n",
        "for spr in np.linspace(50.0, 0.0, num=26):\n",
        "    right = 0\n",
        "    total = 0\n",
        "    \n",
        "    for x, y in dl:\n",
        "        # Before crafting an attack on X, ensure that it is normalized to have a\n",
        "        # specified power -- RML2016.10a fluctuates a bit, especially on AM-SSB,\n",
        "        # which will cause the attack intensity to be incorrect.\n",
        "        x = _normalize(x)\n",
        "        adv_x = pgd(x, y, k=k, spr=spr, input_size=input_samples, sps=sps, net=model)\n",
        "        \n",
        "        # Ensure that we've accurately represented the attack power\n",
        "        #_sanity_check(desired_spr=spr, adv_x=adv_x, x=x)\n",
        "        \n",
        "        predictions = model.predict(adv_x)\n",
        "        right += (predictions == y).sum().item()\n",
        "        total += len(y)\n",
        "\n",
        "    acc = float(right) / total\n",
        "    acc_vs_spr.append(acc)\n",
        "    sprs.append(spr)\n",
        "\n",
        "fig = plot_acc_vs_spr(acc_vs_spr=acc_vs_spr,\n",
        "                      spr=sprs,\n",
        "                      title=\"Performance of a Digital PGD Attack\"\n",
        "                     )\n",
        "if fig_dir is not None:\n",
        "    file_path = \"{fig_dir}/direct_access_pgd.pdf\".format(fig_dir=fig_dir)\n",
        "    print(\"Saving Figure -> {file_path}\".format(file_path=file_path))\n",
        "    fig.savefig(file_path, format=\"pdf\", transparent=True)\n",
        "plt.show()"
      ],
      "metadata": {
        "id": "SvJqTFmMVliJ"
      },
      "execution_count": null,
      "outputs": []
    },
    {
      "cell_type": "code",
      "source": [
        "spr = 2 #signal to perturbation ratio in DB\n",
        "\n",
        "predictions = list()\n",
        "labels = list()\n",
        "for x, y in dl:\n",
        "    # Before crafting an attack on X, ensure that it is normalized to have a\n",
        "    # specified power -- RML2016.10a fluctuates a bit, especially on AM-SSB,\n",
        "    # which will cause the attack intensity to be incorrect.\n",
        "    x = _normalize(x)\n",
        "    adv_x = pgd(x, y, k=k, spr=spr, input_size=input_samples, sps=sps, net=model)\n",
        "\n",
        "    # Ensure that we've accurately represented the attack power\n",
        "    #_sanity_check(desired_spr=spr, adv_x=adv_x, x=x)\n",
        "\n",
        "    _predictions = model.predict(adv_x)\n",
        "    predictions.extend(_predictions.detach().numpy())\n",
        "    labels.extend(y)\n",
        "\n",
        "cmn = _confusion_matrix(predictions=predictions, labels=labels, le=le)\n",
        "\n",
        "title = \"Confusion Matrix with a {spr} dB PGD Attack\".format(spr=spr)\n",
        "fig = plot_confusion(cm=cmn, labels=le.labels, title=title)\n",
        "if fig_dir is not None:\n",
        "    file_path = \"{fig_dir}/pgd_confusion_matrix.pdf\"\n",
        "    print(\"Saving Figure -> {file_path}\".format(file_path=file_path))\n",
        "    fig.savefig(file_path, format=\"pdf\", transparent=True)\n",
        "plt.show()"
      ],
      "metadata": {
        "id": "qvOdeSiMVo6U"
      },
      "execution_count": null,
      "outputs": []
    },
    {
      "cell_type": "markdown",
      "source": [
        "Summary\n",
        "\n",
        "Radio Frequency via AMC with typical CLDNN setup\n",
        "\n"
      ],
      "metadata": {
        "id": "0O_xpsMUdux6"
      }
    }
  ],
  "metadata": {
    "accelerator": "GPU",
    "colab": {
      "collapsed_sections": [],
      "name": "flower different attacks-PGD-FGSM with CLDNN-CNN+GRU+MLP.ipynb",
      "provenance": [],
      "machine_shape": "hm",
      "background_execution": "on",
      "include_colab_link": true
    },
    "kernelspec": {
      "display_name": "Python 3",
      "language": "python",
      "name": "python3"
    },
    "language_info": {
      "codemirror_mode": {
        "name": "ipython",
        "version": 3
      },
      "file_extension": ".py",
      "mimetype": "text/x-python",
      "name": "python",
      "nbconvert_exporter": "python",
      "pygments_lexer": "ipython3",
      "version": "3.7.4"
    },
    "gpuClass": "standard"
  },
  "nbformat": 4,
  "nbformat_minor": 0
}