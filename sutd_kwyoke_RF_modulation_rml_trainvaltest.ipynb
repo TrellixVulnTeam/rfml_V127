{
  "nbformat": 4,
  "nbformat_minor": 0,
  "metadata": {
    "colab": {
      "name": "sutd_kwyoke_RF_modulation_rml_trainvaltest.ipynb",
      "provenance": [],
      "collapsed_sections": [],
      "authorship_tag": "ABX9TyOdKdv4ejqVo1Km65Q/jwEl",
      "include_colab_link": true
    },
    "kernelspec": {
      "name": "python3",
      "display_name": "Python 3"
    },
    "language_info": {
      "name": "python"
    }
  },
  "cells": [
    {
      "cell_type": "markdown",
      "metadata": {
        "id": "view-in-github",
        "colab_type": "text"
      },
      "source": [
        "<a href=\"https://colab.research.google.com/github/ongtiongheng/rfml/blob/master/sutd_kwyoke_RF_modulation_rml_trainvaltest.ipynb\" target=\"_parent\"><img src=\"https://colab.research.google.com/assets/colab-badge.svg\" alt=\"Open In Colab\"/></a>"
      ]
    },
    {
      "cell_type": "code",
      "source": [
        "from google.colab import drive\n",
        "drive.mount(\"/content/gdrive/\")\n",
        "root_path = \"/content/gdrive/MyDrive/\""
      ],
      "metadata": {
        "colab": {
          "base_uri": "https://localhost:8080/"
        },
        "id": "KPK02xaDS5i7",
        "outputId": "ac4b31ad-9019-451b-dc42-4b56d5aa7afd"
      },
      "execution_count": null,
      "outputs": [
        {
          "output_type": "stream",
          "name": "stdout",
          "text": [
            "Drive already mounted at /content/gdrive/; to attempt to forcibly remount, call drive.mount(\"/content/gdrive/\", force_remount=True).\n"
          ]
        }
      ]
    },
    {
      "cell_type": "code",
      "execution_count": null,
      "metadata": {
        "colab": {
          "base_uri": "https://localhost:8080/"
        },
        "id": "NVuSn4mJS1bc",
        "outputId": "693bb6b1-73c9-41ea-b6da-55333b7acd6a"
      },
      "outputs": [
        {
          "output_type": "execute_result",
          "data": {
            "text/plain": [
              "['/content/gdrive/MyDrive/rml_trainvaltest.hdf5']"
            ]
          },
          "metadata": {},
          "execution_count": 6
        }
      ],
      "source": [
        "import _pickle as pickle\n",
        "import numpy as np\n",
        "import joblib\n",
        "\n",
        "#original dataset to be split\n",
        "with open(root_path + 'RML2016.10a_dict.pkl','rb') as f:\n",
        "  data = pickle.load(f,encoding='bytes')\n",
        "\n",
        "#set split points\n",
        "TEST_PERCENTAGE = 0.2\n",
        "VAL_PERCENTAGE = 0.13\n",
        "TRAIN_PERCENTAGE = 0.67\n",
        "\n",
        "\n",
        "#rename dictionary keys\n",
        "old2newkey = {}\n",
        "oldkeys = [ b'QAM16', b'QAM64', b'QPSK', b'8PSK', b'CPFSK', b'GFSK', b'BPSK', b'PAM4']\n",
        "newkeys = ['a16QAM', 'a64QAM', 'bQPSK', 'b8PSK', 'cCPFSK', 'cGFSK', 'dBPSK', 'd4PAM']\n",
        "for i in range(8):\n",
        "  old2newkey[oldkeys[i]] = newkeys[i]\n",
        "\n",
        "\n",
        "#reformat dict into arrays with new labels\n",
        "X = []\n",
        "labels = [] # label each example by a pair (modulation type, snr)\n",
        "total_examples = 0\n",
        "for mod_type, snr in data.keys():\n",
        "  if mod_type not in [b'WBFM', b'AM-DSB', b'AM-SSB']:\n",
        "    mod_new = old2newkey[mod_type]\n",
        "    current_matrix = data[(mod_type, snr)]\n",
        "    for i in range(current_matrix.shape[0]):\n",
        "      X.append(current_matrix[i])\n",
        "      labels.append((mod_new, snr)) # mod_type is of type bytes\n",
        "X = np.array(X)\n",
        "labels = np.array(labels)\n",
        "\n",
        "#shuffle and split\n",
        "np.random.seed(7)\n",
        "perm_idx = np.random.permutation(labels.shape[0])\n",
        "X_perm = X[perm_idx]\n",
        "labels_perm = labels[perm_idx]\n",
        "split_point1 = int(TRAIN_PERCENTAGE*X_perm.shape[0])\n",
        "split_point2 = int((TRAIN_PERCENTAGE + VAL_PERCENTAGE)*X_perm.shape[0])\n",
        "X_train = X_perm[0:split_point1]\n",
        "X_val = X_perm[split_point1:split_point2]\n",
        "X_test = X_perm[split_point2:]\n",
        "labels_train = labels_perm[0:split_point1]\n",
        "labels_val= labels_perm[split_point1:split_point2]\n",
        "labels_test = labels_perm[split_point2:]\n",
        "\n",
        "\n",
        "\n",
        "#init train val test dictionaries to be created\n",
        "trainvaltest = {}\n",
        "trainvaltest['train'] = {}\n",
        "trainvaltest['train']['X'] = X_train\n",
        "trainvaltest['train']['labels'] = labels_train\n",
        "\n",
        "trainvaltest['val'] = {}\n",
        "trainvaltest['val']['X'] = X_val\n",
        "trainvaltest['val']['labels'] = labels_val\n",
        "\n",
        "trainvaltest['test'] = {}\n",
        "trainvaltest['test']['X'] = X_test\n",
        "trainvaltest['test']['labels'] = labels_test\n",
        "\n",
        "\n",
        "#save dict\n",
        "joblib.dump(trainvaltest, root_path + 'rml_trainvaltest.hdf5')"
      ]
    }
  ]
}